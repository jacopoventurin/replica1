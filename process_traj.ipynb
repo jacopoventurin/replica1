{
 "cells": [
  {
   "cell_type": "code",
   "execution_count": 1,
   "metadata": {},
   "outputs": [],
   "source": [
    "import numpy as np\n",
    "import mdtraj as md\n",
    "from tqdm import tqdm\n",
    "from glob import glob\n"
   ]
  },
  {
   "cell_type": "markdown",
   "metadata": {},
   "source": [
    "Please keeep poarticular attention to \n",
    "\n",
    "- choose same folder for `pos_path` and `forces_path`\n",
    "- choose correct `delta` value (should be 10*(simulation number-1))\n",
    "- choose correct folders for `processed_pos` and ` processed_forces` corresponding to the choice of `pos_path` and `forces_path`\n",
    "- select the correct folder between `exchange_neighbors` and `exchnge_all`"
   ]
  },
  {
   "cell_type": "code",
   "execution_count": 3,
   "metadata": {},
   "outputs": [],
   "source": [
    "## Number of simulation\n",
    "n_sim = 7\n",
    "\n",
    "## Type of simulation\n",
    "type_sim = 'all'\n",
    "#type_sim = 'neighbors'\n",
    "\n",
    "## Type of saved data\n",
    "data_type = 'protein'\n",
    "#data_type = 'all'"
   ]
  },
  {
   "cell_type": "code",
   "execution_count": 4,
   "metadata": {},
   "outputs": [
    {
     "name": "stdout",
     "output_type": "stream",
     "text": [
      "Check delta should be (1 -1) * 10\n",
      "Value of delta -> 0\n"
     ]
    }
   ],
   "source": [
    "# Define paths where position and forces from the simulaion are saved \n",
    "pos_path = f'/import/a12/users/jacopo/transf_temp/all_atom_replica_results_chignolin/exchange_{type_sim}/sim{n_sim}'\n",
    "forces_path = f'/import/a12/users/jacopo/transf_temp/all_atom_replica_results_chignolin/exchange_{type_sim}/sim{n_sim}'\n",
    "\n",
    "# Define paths where to save results\n",
    "processed_pos = f'/local_scratch2/jacopo/trans_temp/all_atom_replica_results_chignolin/exchange_{type_sim}/coords_nowater'\n",
    "processed_forces = f'/local_scratch2/jacopo/trans_temp/all_atom_replica_results_chignolin/exchange_{type_sim}/forces_nowater'\n",
    "\n",
    "delta = (n_sim -1) * 10\n",
    "\n",
    "print(f'Check delta should be ({n_sim} -1) * 10')\n",
    "print(f'Value of delta -> {delta}')"
   ]
  },
  {
   "cell_type": "code",
   "execution_count": 2,
   "metadata": {},
   "outputs": [],
   "source": [
    "# simulation parameters\n",
    "n_replicas = 36\n",
    "min_T = 280\n",
    "max_T = 400\n",
    "Temperatures = np.geomspace(min_T, max_T, n_replicas)\n",
    "\n",
    "\n",
    "## if we want to save some subset we need to define a topology\n",
    "if data_type == 'all':\n",
    "    # pdb file used for the simulation\n",
    "    pdb_file = 'chi_sys.pdb'\n",
    "\n",
    "    # find protein's atoms indeces\n",
    "    topo = md.load(pdb_file).topology\n",
    "    protein_index = topo.select(\"protein\")\n",
    "    protein_topo = topo.subset(protein_index)\n",
    "else:\n",
    "    protein_index = None"
   ]
  },
  {
   "cell_type": "code",
   "execution_count": 3,
   "metadata": {},
   "outputs": [],
   "source": [
    "\n",
    "# load position and forces\n",
    "pos_fns = sorted(glob(f\"{pos_path}/position_*.npy\"))\n",
    "forces_fns = sorted(glob(f\"{forces_path}/forces_*.npy\"))\n",
    "\n",
    "# verify position and forces have same length\n",
    "assert len(pos_fns) == len(forces_fns)\n",
    "\n",
    "\n",
    "print('Started')\n",
    "\n",
    "if protein_index is not None:\n",
    "    i = 0\n",
    "    for pos_fn, force_fn in zip(pos_fns, forces_fns):    \n",
    "        pos = np.load(pos_fn)[:, :, protein_index, :]\n",
    "        force = np.load(force_fn)[:, :, protein_index, :]\n",
    "        for idx in tqdm(range(n_replicas)):\n",
    "            np.save(f\"{processed_pos}/temperature_{Temperatures[idx]:.0f}/coor_{i+delta}\", pos[idx]) \n",
    "            np.save(f\"{processed_forces}/temperature_{Temperatures[idx]:.0f}/forces_{i+delta}\", force[idx]) \n",
    "        print(f'Progress -> {i+1} over 10')\n",
    "        i += 1\n",
    "\n",
    "else:\n",
    "    i = 0\n",
    "    for pos_fn, force_fn in zip(pos_fns, forces_fns):    \n",
    "        pos = np.load(pos_fn)\n",
    "        force = np.load(force_fn)\n",
    "        for idx in tqdm(range(n_replicas)):\n",
    "            np.save(f\"{processed_pos}/temperature_{Temperatures[idx]:.0f}/coor_{i+delta}\", pos[idx]) \n",
    "            np.save(f\"{processed_forces}/temperature_{Temperatures[idx]:.0f}/forces_{i+delta}\", force[idx]) \n",
    "        print(f'Progress -> {i+1} over 10')\n",
    "        i += 1\n",
    "\n",
    "    \n",
    "\n"
   ]
  },
  {
   "cell_type": "code",
   "execution_count": 4,
   "metadata": {},
   "outputs": [
    {
     "name": "stdout",
     "output_type": "stream",
     "text": [
      "Started\n"
     ]
    }
   ],
   "source": []
  }
 ],
 "metadata": {
  "kernelspec": {
   "display_name": "Python 3.11.0",
   "language": "python",
   "name": "python3"
  },
  "language_info": {
   "codemirror_mode": {
    "name": "ipython",
    "version": 3
   },
   "file_extension": ".py",
   "mimetype": "text/x-python",
   "name": "python",
   "nbconvert_exporter": "python",
   "pygments_lexer": "ipython3",
   "version": "3.11.0"
  },
  "orig_nbformat": 4,
  "vscode": {
   "interpreter": {
    "hash": "fbaadaea6d88548185d595c3f8fee577faf9eca7f3d4777120b644354e10a8c1"
   }
  }
 },
 "nbformat": 4,
 "nbformat_minor": 2
}
