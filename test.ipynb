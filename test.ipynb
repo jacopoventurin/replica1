{
 "cells": [
  {
   "cell_type": "code",
   "execution_count": 1,
   "metadata": {
    "collapsed": true
   },
   "outputs": [],
   "source": [
    "import numpy as np\n",
    "import openmm as mm\n",
    "import mdtraj as md\n",
    "from openmm import unit\n",
    "import openmm.app as app\n",
    "import os\n",
    "from openmmtools import states, mcmc\n",
    "import openmmtools\n",
    "import os\n",
    "import os.path as osp\n",
    "from ReplicaExchangeProtocol import ReplicaExchange\n",
    "\n",
    "\n",
    "if osp.exists('output-1.nc'): os.system('rm output-1.nc')"
   ]
  },
  {
   "cell_type": "code",
   "execution_count": 2,
   "outputs": [],
   "source": [
    "forcefield=['amber99sb.xml','tip3p.xml']\n",
    "forcefield=['amber96.xml','tip3p.xml']\n",
    "constraints = app.HBonds\n",
    "nonbonded_cutoff = 0.9*unit.nanometer\n",
    "switch_distance = 0.75*unit.nanometer\n",
    "nonbonded_method = app.PME\n",
    "implicit_solvent = False\n",
    "solvated = True\n",
    "hydrogen_mass = None\n",
    "\n",
    "# Define initial constants of the input pdb file\n",
    "friction = 0.1 / unit.picoseconds\n",
    "pressure = 1.0 * unit.atmosphere\n",
    "temperature = 300*unit.kelvin\n",
    "timestep = 2.0 * unit.femtosecond\n",
    "\n",
    "# Load pdb file\n",
    "pdb = app.PDBFile('chignolin.pdb')\n",
    "traj = md.load('chignolin.pdb')\n",
    "\n",
    "# Set periodic boundary condition\n",
    "xdist = traj.xyz[:,:,0].max() - traj.xyz[:,:,0].min()\n",
    "ydist = traj.xyz[:,:,1].max() - traj.xyz[:,:,1].min()\n",
    "zdist = traj.xyz[:,:,2].max() - traj.xyz[:,:,2].min()\n",
    "\n",
    "dimensions = np.zeros((3,3))\n",
    "dimensions[0][0] = xdist\n",
    "dimensions[1][1] = ydist\n",
    "dimensions[2][2] = zdist\n",
    "\n",
    "pdb.topology.setPeriodicBoxVectors(dimensions)\n",
    "\n",
    "# Define system\n",
    "create_system_kwargs = dict(\n",
    "    removeCMMotion=True,\n",
    "    nonbondedMethod=nonbonded_method,\n",
    "    nonbondedCutoff=nonbonded_cutoff,\n",
    "    switchDistance=switch_distance,\n",
    "    constraints=constraints,\n",
    "    hydrogenMass=hydrogen_mass,\n",
    "    rigidWater=True,\n",
    ")\n",
    "\n",
    "\n",
    "ff = app.ForceField(*forcefield)\n",
    "system = ff.createSystem(pdb.topology, **create_system_kwargs)\n",
    "\n",
    "#sampler_state = mcmc.SamplerState(positions=system.positions)\n",
    "#thermodynamic_state = mcmc.ThermodynamicState(system=system, temperature=298*unit.kelvin)\n",
    "\n",
    "\n",
    "barostat = mm.MonteCarloBarostat(pressure, temperature)\n",
    "force_id = system.addForce(barostat)"
   ],
   "metadata": {
    "collapsed": false
   }
  },
  {
   "cell_type": "code",
   "execution_count": 10,
   "outputs": [],
   "source": [
    "platform = mm.Platform.getPlatformByName(\"CUDA\")\n",
    "platform_properties = {\"DeviceIndex\": \"0\", \"Precision\": \"mixed\"}\n",
    "\n",
    "n_replicas = 2\n",
    "\n",
    "protocol = {'temperature': [300,302,304,306] * unit.kelvin}\n",
    "thermodynamic_states = states.create_thermodynamic_state_protocol(system,protocol)\n",
    "\n",
    "\n",
    "\n",
    "sampler_states = list()\n",
    "for i_t,_ in enumerate(thermodynamic_states):\n",
    "    #pos = unit.Quantity(start_pos,unit=unit.angstrom)\n",
    "    pos = unit.Quantity(traj.xyz, unit=unit.nano)\n",
    "    sampler_states.append(openmmtools.states.SamplerState(positions=pos))\n",
    "\n",
    "langevin_move = mcmc.LangevinSplittingDynamicsMove(\n",
    "    timestep = timestep,\n",
    "    collision_rate = friction,\n",
    "    n_steps = 50,\n",
    "    reassign_velocities=False,\n",
    "    n_restart_attempts=20,\n",
    "    splitting=\"V R O R V\"\n",
    ")\n",
    "\n",
    "# Define class for replica exchange\n",
    "parallel_tempering = ReplicaExchange(\n",
    "    thermodynamic_states=thermodynamic_states,\n",
    "    sampler_states=sampler_states,\n",
    "    mcmc_move=langevin_move\n",
    ")"
   ],
   "metadata": {
    "collapsed": false
   }
  },
  {
   "cell_type": "code",
   "execution_count": 7,
   "outputs": [
    {
     "name": "stdout",
     "output_type": "stream",
     "text": [
      "0\n"
     ]
    },
    {
     "ename": "AttributeError",
     "evalue": "'SiPrefix' object has no attribute 'iter_base_dimensions'",
     "output_type": "error",
     "traceback": [
      "\u001B[0;31m---------------------------------------------------------------------------\u001B[0m",
      "\u001B[0;31mAttributeError\u001B[0m                            Traceback (most recent call last)",
      "Cell \u001B[0;32mIn [7], line 1\u001B[0m\n\u001B[0;32m----> 1\u001B[0m positions, forces, acceptance \u001B[38;5;241m=\u001B[39m \u001B[43mparallel_tempering\u001B[49m\u001B[38;5;241;43m.\u001B[39;49m\u001B[43mrun\u001B[49m\u001B[43m(\u001B[49m\u001B[38;5;241;43m5000\u001B[39;49m\u001B[43m,\u001B[49m\u001B[43msave\u001B[49m\u001B[38;5;241;43m=\u001B[39;49m\u001B[38;5;28;43;01mTrue\u001B[39;49;00m\u001B[43m)\u001B[49m\n",
      "File \u001B[0;32m/local_scratch2/jacopo/trans_temp/replica1/ReplicaExchangeProtocol.py:25\u001B[0m, in \u001B[0;36mReplicaExchange.run\u001B[0;34m(self, n_iterations, save)\u001B[0m\n\u001B[1;32m     23\u001B[0m \u001B[38;5;28;01mfor\u001B[39;00m iteration \u001B[38;5;129;01min\u001B[39;00m \u001B[38;5;28mrange\u001B[39m(n_iterations):\n\u001B[1;32m     24\u001B[0m     \u001B[38;5;28;01mif\u001B[39;00m iteration \u001B[38;5;241m%\u001B[39m \u001B[38;5;241m100\u001B[39m \u001B[38;5;241m==\u001B[39m \u001B[38;5;241m0\u001B[39m: \u001B[38;5;28mprint\u001B[39m(iteration)\n\u001B[0;32m---> 25\u001B[0m     \u001B[38;5;28;43mself\u001B[39;49m\u001B[38;5;241;43m.\u001B[39;49m\u001B[43m_propagate_replicas\u001B[49m\u001B[43m(\u001B[49m\u001B[43m)\u001B[49m\n\u001B[1;32m     26\u001B[0m     \u001B[38;5;28mself\u001B[39m\u001B[38;5;241m.\u001B[39m_mix_replicas()\n\u001B[1;32m     28\u001B[0m     \u001B[38;5;66;03m# Save positions and forces\u001B[39;00m\n",
      "File \u001B[0;32m/local_scratch2/jacopo/trans_temp/replica1/ReplicaExchangeProtocol.py:46\u001B[0m, in \u001B[0;36mReplicaExchange._propagate_replicas\u001B[0;34m(self)\u001B[0m\n\u001B[1;32m     43\u001B[0m \u001B[38;5;28;01mdef\u001B[39;00m \u001B[38;5;21m_propagate_replicas\u001B[39m(\u001B[38;5;28mself\u001B[39m):\n\u001B[1;32m     44\u001B[0m     \u001B[38;5;66;03m# _thermodynamic_state[i] is associated to the replica configuration in _replicas_sampler_states[i].\u001B[39;00m\n\u001B[1;32m     45\u001B[0m     \u001B[38;5;28;01mfor\u001B[39;00m thermo_state, sampler_state \u001B[38;5;129;01min\u001B[39;00m \u001B[38;5;28mzip\u001B[39m(\u001B[38;5;28mself\u001B[39m\u001B[38;5;241m.\u001B[39m_thermodynamic_states, \u001B[38;5;28mself\u001B[39m\u001B[38;5;241m.\u001B[39m_replicas_sampler_states):\n\u001B[0;32m---> 46\u001B[0m         \u001B[38;5;28;43mself\u001B[39;49m\u001B[38;5;241;43m.\u001B[39;49m\u001B[43m_mcmc_move\u001B[49m\u001B[38;5;241;43m.\u001B[39;49m\u001B[43mapply\u001B[49m\u001B[43m(\u001B[49m\u001B[43mthermo_state\u001B[49m\u001B[43m,\u001B[49m\u001B[43m \u001B[49m\u001B[43msampler_state\u001B[49m\u001B[43m)\u001B[49m\n",
      "File \u001B[0;32m/local_scratch2/jacopo/trans_temp/miniconda/envs/mdsimulations/lib/python3.9/site-packages/openmmtools/mcmc.py:1146\u001B[0m, in \u001B[0;36mLangevinDynamicsMove.apply\u001B[0;34m(self, thermodynamic_state, sampler_state, context_cache)\u001B[0m\n\u001B[1;32m   1130\u001B[0m \u001B[38;5;124;03m\"\"\"Apply the Langevin dynamics MCMC move.\u001B[39;00m\n\u001B[1;32m   1131\u001B[0m \n\u001B[1;32m   1132\u001B[0m \u001B[38;5;124;03mThis modifies the given sampler_state. The temperature of the\u001B[39;00m\n\u001B[0;32m   (...)\u001B[0m\n\u001B[1;32m   1143\u001B[0m \n\u001B[1;32m   1144\u001B[0m \u001B[38;5;124;03m\"\"\"\u001B[39;00m\n\u001B[1;32m   1145\u001B[0m \u001B[38;5;66;03m# Explicitly implemented just to have more specific docstring.\u001B[39;00m\n\u001B[0;32m-> 1146\u001B[0m \u001B[38;5;28;43msuper\u001B[39;49m\u001B[43m(\u001B[49m\u001B[43mLangevinDynamicsMove\u001B[49m\u001B[43m,\u001B[49m\u001B[43m \u001B[49m\u001B[38;5;28;43mself\u001B[39;49m\u001B[43m)\u001B[49m\u001B[38;5;241;43m.\u001B[39;49m\u001B[43mapply\u001B[49m\u001B[43m(\u001B[49m\u001B[43mthermodynamic_state\u001B[49m\u001B[43m,\u001B[49m\u001B[43m \u001B[49m\u001B[43msampler_state\u001B[49m\u001B[43m,\u001B[49m\n\u001B[1;32m   1147\u001B[0m \u001B[43m                                        \u001B[49m\u001B[43mcontext_cache\u001B[49m\u001B[38;5;241;43m=\u001B[39;49m\u001B[43mcontext_cache\u001B[49m\u001B[43m)\u001B[49m\n",
      "File \u001B[0;32m/local_scratch2/jacopo/trans_temp/miniconda/envs/mdsimulations/lib/python3.9/site-packages/openmmtools/mcmc.py:707\u001B[0m, in \u001B[0;36mBaseIntegratorMove.apply\u001B[0;34m(self, thermodynamic_state, sampler_state, context_cache)\u001B[0m\n\u001B[1;32m    703\u001B[0m \u001B[38;5;66;03m# Perform the integration.\u001B[39;00m\n\u001B[1;32m    704\u001B[0m \u001B[38;5;28;01mfor\u001B[39;00m attempt_counter \u001B[38;5;129;01min\u001B[39;00m \u001B[38;5;28mrange\u001B[39m(\u001B[38;5;28mself\u001B[39m\u001B[38;5;241m.\u001B[39mn_restart_attempts \u001B[38;5;241m+\u001B[39m \u001B[38;5;241m1\u001B[39m):\n\u001B[1;32m    705\u001B[0m \n\u001B[1;32m    706\u001B[0m     \u001B[38;5;66;03m# If we reassign velocities, we can ignore the ones in sampler_state.\u001B[39;00m\n\u001B[0;32m--> 707\u001B[0m     \u001B[43msampler_state\u001B[49m\u001B[38;5;241;43m.\u001B[39;49m\u001B[43mapply_to_context\u001B[49m\u001B[43m(\u001B[49m\u001B[43mcontext\u001B[49m\u001B[43m,\u001B[49m\u001B[43m \u001B[49m\u001B[43mignore_velocities\u001B[49m\u001B[38;5;241;43m=\u001B[39;49m\u001B[38;5;28;43mself\u001B[39;49m\u001B[38;5;241;43m.\u001B[39;49m\u001B[43mreassign_velocities\u001B[49m\u001B[43m)\u001B[49m\n\u001B[1;32m    708\u001B[0m     \u001B[38;5;28;01mif\u001B[39;00m \u001B[38;5;28mself\u001B[39m\u001B[38;5;241m.\u001B[39mreassign_velocities:\n\u001B[1;32m    709\u001B[0m         context\u001B[38;5;241m.\u001B[39msetVelocitiesToTemperature(thermodynamic_state\u001B[38;5;241m.\u001B[39mtemperature)\n",
      "File \u001B[0;32m/local_scratch2/jacopo/trans_temp/miniconda/envs/mdsimulations/lib/python3.9/site-packages/openmmtools/states.py:2278\u001B[0m, in \u001B[0;36mSamplerState.apply_to_context\u001B[0;34m(self, context, ignore_velocities)\u001B[0m\n\u001B[1;32m   2276\u001B[0m \u001B[38;5;28;01mif\u001B[39;00m \u001B[38;5;28mself\u001B[39m\u001B[38;5;241m.\u001B[39mbox_vectors \u001B[38;5;129;01mis\u001B[39;00m \u001B[38;5;129;01mnot\u001B[39;00m \u001B[38;5;28;01mNone\u001B[39;00m:\n\u001B[1;32m   2277\u001B[0m     context\u001B[38;5;241m.\u001B[39msetPeriodicBoxVectors(\u001B[38;5;241m*\u001B[39m\u001B[38;5;28mself\u001B[39m\u001B[38;5;241m.\u001B[39mbox_vectors)\n\u001B[0;32m-> 2278\u001B[0m context\u001B[38;5;241m.\u001B[39msetPositions(\u001B[38;5;28;43mself\u001B[39;49m\u001B[38;5;241;43m.\u001B[39;49m\u001B[43m_unitless_positions\u001B[49m)\n\u001B[1;32m   2279\u001B[0m \u001B[38;5;28;01mif\u001B[39;00m \u001B[38;5;28mself\u001B[39m\u001B[38;5;241m.\u001B[39m_velocities \u001B[38;5;129;01mis\u001B[39;00m \u001B[38;5;129;01mnot\u001B[39;00m \u001B[38;5;28;01mNone\u001B[39;00m \u001B[38;5;129;01mand\u001B[39;00m \u001B[38;5;129;01mnot\u001B[39;00m ignore_velocities:\n\u001B[1;32m   2280\u001B[0m     context\u001B[38;5;241m.\u001B[39msetVelocities(\u001B[38;5;28mself\u001B[39m\u001B[38;5;241m.\u001B[39m_unitless_velocities)\n",
      "File \u001B[0;32m/local_scratch2/jacopo/trans_temp/miniconda/envs/mdsimulations/lib/python3.9/site-packages/openmmtools/states.py:2414\u001B[0m, in \u001B[0;36mSamplerState._unitless_positions\u001B[0;34m(self)\u001B[0m\n\u001B[1;32m   2412\u001B[0m \u001B[38;5;124;03m\"\"\"Keeps a cache of unitless positions.\"\"\"\u001B[39;00m\n\u001B[1;32m   2413\u001B[0m \u001B[38;5;28;01mif\u001B[39;00m \u001B[38;5;28mself\u001B[39m\u001B[38;5;241m.\u001B[39m_unitless_positions_cache \u001B[38;5;129;01mis\u001B[39;00m \u001B[38;5;28;01mNone\u001B[39;00m \u001B[38;5;129;01mor\u001B[39;00m \u001B[38;5;28mself\u001B[39m\u001B[38;5;241m.\u001B[39m_positions\u001B[38;5;241m.\u001B[39mhas_changed:\n\u001B[0;32m-> 2414\u001B[0m     \u001B[38;5;28mself\u001B[39m\u001B[38;5;241m.\u001B[39m_unitless_positions_cache \u001B[38;5;241m=\u001B[39m \u001B[38;5;28;43mself\u001B[39;49m\u001B[38;5;241;43m.\u001B[39;49m\u001B[43mpositions\u001B[49m\u001B[38;5;241;43m.\u001B[39;49m\u001B[43mvalue_in_unit_system\u001B[49m\u001B[43m(\u001B[49m\u001B[43munit\u001B[49m\u001B[38;5;241;43m.\u001B[39;49m\u001B[43mmd_unit_system\u001B[49m\u001B[43m)\u001B[49m\n\u001B[1;32m   2415\u001B[0m \u001B[38;5;28;01mif\u001B[39;00m \u001B[38;5;28mself\u001B[39m\u001B[38;5;241m.\u001B[39m_positions\u001B[38;5;241m.\u001B[39mhas_changed:\n\u001B[1;32m   2416\u001B[0m     \u001B[38;5;28mself\u001B[39m\u001B[38;5;241m.\u001B[39m_positions\u001B[38;5;241m.\u001B[39mhas_changed \u001B[38;5;241m=\u001B[39m \u001B[38;5;28;01mFalse\u001B[39;00m\n",
      "File \u001B[0;32m/local_scratch2/jacopo/trans_temp/miniconda/envs/mdsimulations/lib/python3.9/site-packages/openmm/unit/quantity.py:633\u001B[0m, in \u001B[0;36mQuantity.value_in_unit_system\u001B[0;34m(self, system)\u001B[0m\n\u001B[1;32m    629\u001B[0m \u001B[38;5;28;01mdef\u001B[39;00m \u001B[38;5;21mvalue_in_unit_system\u001B[39m(\u001B[38;5;28mself\u001B[39m, system):\n\u001B[1;32m    630\u001B[0m     \u001B[38;5;124;03m\"\"\"\u001B[39;00m\n\u001B[1;32m    631\u001B[0m \u001B[38;5;124;03m    Returns the underlying value type, after conversion to a particular unit system.\u001B[39;00m\n\u001B[1;32m    632\u001B[0m \u001B[38;5;124;03m    \"\"\"\u001B[39;00m\n\u001B[0;32m--> 633\u001B[0m     result \u001B[38;5;241m=\u001B[39m \u001B[38;5;28;43mself\u001B[39;49m\u001B[38;5;241;43m.\u001B[39;49m\u001B[43min_unit_system\u001B[49m\u001B[43m(\u001B[49m\u001B[43msystem\u001B[49m\u001B[43m)\u001B[49m\n\u001B[1;32m    634\u001B[0m     \u001B[38;5;28;01mif\u001B[39;00m is_quantity(result):\n\u001B[1;32m    635\u001B[0m         \u001B[38;5;28;01mreturn\u001B[39;00m result\u001B[38;5;241m.\u001B[39m_value\n",
      "File \u001B[0;32m/local_scratch2/jacopo/trans_temp/miniconda/envs/mdsimulations/lib/python3.9/site-packages/openmm/unit/quantity.py:643\u001B[0m, in \u001B[0;36mQuantity.in_unit_system\u001B[0;34m(self, system)\u001B[0m\n\u001B[1;32m    639\u001B[0m \u001B[38;5;28;01mdef\u001B[39;00m \u001B[38;5;21min_unit_system\u001B[39m(\u001B[38;5;28mself\u001B[39m, system):\n\u001B[1;32m    640\u001B[0m     \u001B[38;5;124;03m\"\"\"\u001B[39;00m\n\u001B[1;32m    641\u001B[0m \u001B[38;5;124;03m    Returns a new Quantity equal to this one, expressed in a particular unit system.\u001B[39;00m\n\u001B[1;32m    642\u001B[0m \u001B[38;5;124;03m    \"\"\"\u001B[39;00m\n\u001B[0;32m--> 643\u001B[0m     new_units \u001B[38;5;241m=\u001B[39m \u001B[43msystem\u001B[49m\u001B[38;5;241;43m.\u001B[39;49m\u001B[43mexpress_unit\u001B[49m\u001B[43m(\u001B[49m\u001B[38;5;28;43mself\u001B[39;49m\u001B[38;5;241;43m.\u001B[39;49m\u001B[43munit\u001B[49m\u001B[43m)\u001B[49m\n\u001B[1;32m    644\u001B[0m     f \u001B[38;5;241m=\u001B[39m \u001B[38;5;28mself\u001B[39m\u001B[38;5;241m.\u001B[39munit\u001B[38;5;241m.\u001B[39mconversion_factor_to(new_units)\n\u001B[1;32m    645\u001B[0m     \u001B[38;5;28;01mreturn\u001B[39;00m \u001B[38;5;28mself\u001B[39m\u001B[38;5;241m.\u001B[39m_change_units_with_factor(new_units, f)\n",
      "File \u001B[0;32m/local_scratch2/jacopo/trans_temp/miniconda/envs/mdsimulations/lib/python3.9/site-packages/openmm/unit/unit.py:676\u001B[0m, in \u001B[0;36mUnitSystem.express_unit\u001B[0;34m(self, old_unit)\u001B[0m\n\u001B[1;32m    674\u001B[0m base_dims \u001B[38;5;241m=\u001B[39m [\u001B[38;5;241m0\u001B[39m] \u001B[38;5;241m*\u001B[39m m\n\u001B[1;32m    675\u001B[0m other_dims \u001B[38;5;241m=\u001B[39m {}\n\u001B[0;32m--> 676\u001B[0m \u001B[38;5;28;01mfor\u001B[39;00m dim, exponent \u001B[38;5;129;01min\u001B[39;00m \u001B[43mold_unit\u001B[49m\u001B[38;5;241;43m.\u001B[39;49m\u001B[43miter_base_dimensions\u001B[49m():\n\u001B[1;32m    677\u001B[0m     \u001B[38;5;28;01mif\u001B[39;00m dim \u001B[38;5;129;01min\u001B[39;00m \u001B[38;5;28mself\u001B[39m\u001B[38;5;241m.\u001B[39mdimensions:\n\u001B[1;32m    678\u001B[0m         base_dims[\u001B[38;5;28mself\u001B[39m\u001B[38;5;241m.\u001B[39mdimensions[dim]] \u001B[38;5;241m=\u001B[39m exponent\n",
      "\u001B[0;31mAttributeError\u001B[0m: 'SiPrefix' object has no attribute 'iter_base_dimensions'"
     ]
    }
   ],
   "source": [
    "positions, forces, acceptance = parallel_tempering.run(5000,save=True)"
   ],
   "metadata": {
    "collapsed": false
   }
  },
  {
   "cell_type": "code",
   "execution_count": 16,
   "outputs": [
    {
     "ename": "AttributeError",
     "evalue": "'SiPrefix' object has no attribute 'iter_base_dimensions'",
     "output_type": "error",
     "traceback": [
      "\u001B[0;31m---------------------------------------------------------------------------\u001B[0m",
      "\u001B[0;31mAttributeError\u001B[0m                            Traceback (most recent call last)",
      "Cell \u001B[0;32mIn [16], line 1\u001B[0m\n\u001B[0;32m----> 1\u001B[0m \u001B[43mlangevin_move\u001B[49m\u001B[38;5;241;43m.\u001B[39;49m\u001B[43mapply\u001B[49m\u001B[43m(\u001B[49m\u001B[43mthermodynamic_states\u001B[49m\u001B[43m[\u001B[49m\u001B[38;5;241;43m0\u001B[39;49m\u001B[43m]\u001B[49m\u001B[43m,\u001B[49m\u001B[43m \u001B[49m\u001B[43msampler_states\u001B[49m\u001B[43m[\u001B[49m\u001B[38;5;241;43m0\u001B[39;49m\u001B[43m]\u001B[49m\u001B[43m)\u001B[49m\n",
      "File \u001B[0;32m/local_scratch2/jacopo/trans_temp/miniconda/envs/mdsimulations/lib/python3.9/site-packages/openmmtools/mcmc.py:1146\u001B[0m, in \u001B[0;36mLangevinDynamicsMove.apply\u001B[0;34m(self, thermodynamic_state, sampler_state, context_cache)\u001B[0m\n\u001B[1;32m   1130\u001B[0m \u001B[38;5;124;03m\"\"\"Apply the Langevin dynamics MCMC move.\u001B[39;00m\n\u001B[1;32m   1131\u001B[0m \n\u001B[1;32m   1132\u001B[0m \u001B[38;5;124;03mThis modifies the given sampler_state. The temperature of the\u001B[39;00m\n\u001B[0;32m   (...)\u001B[0m\n\u001B[1;32m   1143\u001B[0m \n\u001B[1;32m   1144\u001B[0m \u001B[38;5;124;03m\"\"\"\u001B[39;00m\n\u001B[1;32m   1145\u001B[0m \u001B[38;5;66;03m# Explicitly implemented just to have more specific docstring.\u001B[39;00m\n\u001B[0;32m-> 1146\u001B[0m \u001B[38;5;28;43msuper\u001B[39;49m\u001B[43m(\u001B[49m\u001B[43mLangevinDynamicsMove\u001B[49m\u001B[43m,\u001B[49m\u001B[43m \u001B[49m\u001B[38;5;28;43mself\u001B[39;49m\u001B[43m)\u001B[49m\u001B[38;5;241;43m.\u001B[39;49m\u001B[43mapply\u001B[49m\u001B[43m(\u001B[49m\u001B[43mthermodynamic_state\u001B[49m\u001B[43m,\u001B[49m\u001B[43m \u001B[49m\u001B[43msampler_state\u001B[49m\u001B[43m,\u001B[49m\n\u001B[1;32m   1147\u001B[0m \u001B[43m                                        \u001B[49m\u001B[43mcontext_cache\u001B[49m\u001B[38;5;241;43m=\u001B[39;49m\u001B[43mcontext_cache\u001B[49m\u001B[43m)\u001B[49m\n",
      "File \u001B[0;32m/local_scratch2/jacopo/trans_temp/miniconda/envs/mdsimulations/lib/python3.9/site-packages/openmmtools/mcmc.py:707\u001B[0m, in \u001B[0;36mBaseIntegratorMove.apply\u001B[0;34m(self, thermodynamic_state, sampler_state, context_cache)\u001B[0m\n\u001B[1;32m    703\u001B[0m \u001B[38;5;66;03m# Perform the integration.\u001B[39;00m\n\u001B[1;32m    704\u001B[0m \u001B[38;5;28;01mfor\u001B[39;00m attempt_counter \u001B[38;5;129;01min\u001B[39;00m \u001B[38;5;28mrange\u001B[39m(\u001B[38;5;28mself\u001B[39m\u001B[38;5;241m.\u001B[39mn_restart_attempts \u001B[38;5;241m+\u001B[39m \u001B[38;5;241m1\u001B[39m):\n\u001B[1;32m    705\u001B[0m \n\u001B[1;32m    706\u001B[0m     \u001B[38;5;66;03m# If we reassign velocities, we can ignore the ones in sampler_state.\u001B[39;00m\n\u001B[0;32m--> 707\u001B[0m     \u001B[43msampler_state\u001B[49m\u001B[38;5;241;43m.\u001B[39;49m\u001B[43mapply_to_context\u001B[49m\u001B[43m(\u001B[49m\u001B[43mcontext\u001B[49m\u001B[43m,\u001B[49m\u001B[43m \u001B[49m\u001B[43mignore_velocities\u001B[49m\u001B[38;5;241;43m=\u001B[39;49m\u001B[38;5;28;43mself\u001B[39;49m\u001B[38;5;241;43m.\u001B[39;49m\u001B[43mreassign_velocities\u001B[49m\u001B[43m)\u001B[49m\n\u001B[1;32m    708\u001B[0m     \u001B[38;5;28;01mif\u001B[39;00m \u001B[38;5;28mself\u001B[39m\u001B[38;5;241m.\u001B[39mreassign_velocities:\n\u001B[1;32m    709\u001B[0m         context\u001B[38;5;241m.\u001B[39msetVelocitiesToTemperature(thermodynamic_state\u001B[38;5;241m.\u001B[39mtemperature)\n",
      "File \u001B[0;32m/local_scratch2/jacopo/trans_temp/miniconda/envs/mdsimulations/lib/python3.9/site-packages/openmmtools/states.py:2278\u001B[0m, in \u001B[0;36mSamplerState.apply_to_context\u001B[0;34m(self, context, ignore_velocities)\u001B[0m\n\u001B[1;32m   2276\u001B[0m \u001B[38;5;28;01mif\u001B[39;00m \u001B[38;5;28mself\u001B[39m\u001B[38;5;241m.\u001B[39mbox_vectors \u001B[38;5;129;01mis\u001B[39;00m \u001B[38;5;129;01mnot\u001B[39;00m \u001B[38;5;28;01mNone\u001B[39;00m:\n\u001B[1;32m   2277\u001B[0m     context\u001B[38;5;241m.\u001B[39msetPeriodicBoxVectors(\u001B[38;5;241m*\u001B[39m\u001B[38;5;28mself\u001B[39m\u001B[38;5;241m.\u001B[39mbox_vectors)\n\u001B[0;32m-> 2278\u001B[0m context\u001B[38;5;241m.\u001B[39msetPositions(\u001B[38;5;28;43mself\u001B[39;49m\u001B[38;5;241;43m.\u001B[39;49m\u001B[43m_unitless_positions\u001B[49m)\n\u001B[1;32m   2279\u001B[0m \u001B[38;5;28;01mif\u001B[39;00m \u001B[38;5;28mself\u001B[39m\u001B[38;5;241m.\u001B[39m_velocities \u001B[38;5;129;01mis\u001B[39;00m \u001B[38;5;129;01mnot\u001B[39;00m \u001B[38;5;28;01mNone\u001B[39;00m \u001B[38;5;129;01mand\u001B[39;00m \u001B[38;5;129;01mnot\u001B[39;00m ignore_velocities:\n\u001B[1;32m   2280\u001B[0m     context\u001B[38;5;241m.\u001B[39msetVelocities(\u001B[38;5;28mself\u001B[39m\u001B[38;5;241m.\u001B[39m_unitless_velocities)\n",
      "File \u001B[0;32m/local_scratch2/jacopo/trans_temp/miniconda/envs/mdsimulations/lib/python3.9/site-packages/openmmtools/states.py:2414\u001B[0m, in \u001B[0;36mSamplerState._unitless_positions\u001B[0;34m(self)\u001B[0m\n\u001B[1;32m   2412\u001B[0m \u001B[38;5;124;03m\"\"\"Keeps a cache of unitless positions.\"\"\"\u001B[39;00m\n\u001B[1;32m   2413\u001B[0m \u001B[38;5;28;01mif\u001B[39;00m \u001B[38;5;28mself\u001B[39m\u001B[38;5;241m.\u001B[39m_unitless_positions_cache \u001B[38;5;129;01mis\u001B[39;00m \u001B[38;5;28;01mNone\u001B[39;00m \u001B[38;5;129;01mor\u001B[39;00m \u001B[38;5;28mself\u001B[39m\u001B[38;5;241m.\u001B[39m_positions\u001B[38;5;241m.\u001B[39mhas_changed:\n\u001B[0;32m-> 2414\u001B[0m     \u001B[38;5;28mself\u001B[39m\u001B[38;5;241m.\u001B[39m_unitless_positions_cache \u001B[38;5;241m=\u001B[39m \u001B[38;5;28;43mself\u001B[39;49m\u001B[38;5;241;43m.\u001B[39;49m\u001B[43mpositions\u001B[49m\u001B[38;5;241;43m.\u001B[39;49m\u001B[43mvalue_in_unit_system\u001B[49m\u001B[43m(\u001B[49m\u001B[43munit\u001B[49m\u001B[38;5;241;43m.\u001B[39;49m\u001B[43mmd_unit_system\u001B[49m\u001B[43m)\u001B[49m\n\u001B[1;32m   2415\u001B[0m \u001B[38;5;28;01mif\u001B[39;00m \u001B[38;5;28mself\u001B[39m\u001B[38;5;241m.\u001B[39m_positions\u001B[38;5;241m.\u001B[39mhas_changed:\n\u001B[1;32m   2416\u001B[0m     \u001B[38;5;28mself\u001B[39m\u001B[38;5;241m.\u001B[39m_positions\u001B[38;5;241m.\u001B[39mhas_changed \u001B[38;5;241m=\u001B[39m \u001B[38;5;28;01mFalse\u001B[39;00m\n",
      "File \u001B[0;32m/local_scratch2/jacopo/trans_temp/miniconda/envs/mdsimulations/lib/python3.9/site-packages/openmm/unit/quantity.py:633\u001B[0m, in \u001B[0;36mQuantity.value_in_unit_system\u001B[0;34m(self, system)\u001B[0m\n\u001B[1;32m    629\u001B[0m \u001B[38;5;28;01mdef\u001B[39;00m \u001B[38;5;21mvalue_in_unit_system\u001B[39m(\u001B[38;5;28mself\u001B[39m, system):\n\u001B[1;32m    630\u001B[0m     \u001B[38;5;124;03m\"\"\"\u001B[39;00m\n\u001B[1;32m    631\u001B[0m \u001B[38;5;124;03m    Returns the underlying value type, after conversion to a particular unit system.\u001B[39;00m\n\u001B[1;32m    632\u001B[0m \u001B[38;5;124;03m    \"\"\"\u001B[39;00m\n\u001B[0;32m--> 633\u001B[0m     result \u001B[38;5;241m=\u001B[39m \u001B[38;5;28;43mself\u001B[39;49m\u001B[38;5;241;43m.\u001B[39;49m\u001B[43min_unit_system\u001B[49m\u001B[43m(\u001B[49m\u001B[43msystem\u001B[49m\u001B[43m)\u001B[49m\n\u001B[1;32m    634\u001B[0m     \u001B[38;5;28;01mif\u001B[39;00m is_quantity(result):\n\u001B[1;32m    635\u001B[0m         \u001B[38;5;28;01mreturn\u001B[39;00m result\u001B[38;5;241m.\u001B[39m_value\n",
      "File \u001B[0;32m/local_scratch2/jacopo/trans_temp/miniconda/envs/mdsimulations/lib/python3.9/site-packages/openmm/unit/quantity.py:643\u001B[0m, in \u001B[0;36mQuantity.in_unit_system\u001B[0;34m(self, system)\u001B[0m\n\u001B[1;32m    639\u001B[0m \u001B[38;5;28;01mdef\u001B[39;00m \u001B[38;5;21min_unit_system\u001B[39m(\u001B[38;5;28mself\u001B[39m, system):\n\u001B[1;32m    640\u001B[0m     \u001B[38;5;124;03m\"\"\"\u001B[39;00m\n\u001B[1;32m    641\u001B[0m \u001B[38;5;124;03m    Returns a new Quantity equal to this one, expressed in a particular unit system.\u001B[39;00m\n\u001B[1;32m    642\u001B[0m \u001B[38;5;124;03m    \"\"\"\u001B[39;00m\n\u001B[0;32m--> 643\u001B[0m     new_units \u001B[38;5;241m=\u001B[39m \u001B[43msystem\u001B[49m\u001B[38;5;241;43m.\u001B[39;49m\u001B[43mexpress_unit\u001B[49m\u001B[43m(\u001B[49m\u001B[38;5;28;43mself\u001B[39;49m\u001B[38;5;241;43m.\u001B[39;49m\u001B[43munit\u001B[49m\u001B[43m)\u001B[49m\n\u001B[1;32m    644\u001B[0m     f \u001B[38;5;241m=\u001B[39m \u001B[38;5;28mself\u001B[39m\u001B[38;5;241m.\u001B[39munit\u001B[38;5;241m.\u001B[39mconversion_factor_to(new_units)\n\u001B[1;32m    645\u001B[0m     \u001B[38;5;28;01mreturn\u001B[39;00m \u001B[38;5;28mself\u001B[39m\u001B[38;5;241m.\u001B[39m_change_units_with_factor(new_units, f)\n",
      "File \u001B[0;32m/local_scratch2/jacopo/trans_temp/miniconda/envs/mdsimulations/lib/python3.9/site-packages/openmm/unit/unit.py:676\u001B[0m, in \u001B[0;36mUnitSystem.express_unit\u001B[0;34m(self, old_unit)\u001B[0m\n\u001B[1;32m    674\u001B[0m base_dims \u001B[38;5;241m=\u001B[39m [\u001B[38;5;241m0\u001B[39m] \u001B[38;5;241m*\u001B[39m m\n\u001B[1;32m    675\u001B[0m other_dims \u001B[38;5;241m=\u001B[39m {}\n\u001B[0;32m--> 676\u001B[0m \u001B[38;5;28;01mfor\u001B[39;00m dim, exponent \u001B[38;5;129;01min\u001B[39;00m \u001B[43mold_unit\u001B[49m\u001B[38;5;241;43m.\u001B[39;49m\u001B[43miter_base_dimensions\u001B[49m():\n\u001B[1;32m    677\u001B[0m     \u001B[38;5;28;01mif\u001B[39;00m dim \u001B[38;5;129;01min\u001B[39;00m \u001B[38;5;28mself\u001B[39m\u001B[38;5;241m.\u001B[39mdimensions:\n\u001B[1;32m    678\u001B[0m         base_dims[\u001B[38;5;28mself\u001B[39m\u001B[38;5;241m.\u001B[39mdimensions[dim]] \u001B[38;5;241m=\u001B[39m exponent\n",
      "\u001B[0;31mAttributeError\u001B[0m: 'SiPrefix' object has no attribute 'iter_base_dimensions'"
     ]
    }
   ],
   "source": [
    "langevin_move.apply(thermodynamic_states[0], sampler_states[0])"
   ],
   "metadata": {
    "collapsed": false
   }
  },
  {
   "cell_type": "code",
   "execution_count": 17,
   "outputs": [
    {
     "ename": "AttributeError",
     "evalue": "'System' object has no attribute 'express_unit'",
     "output_type": "error",
     "traceback": [
      "\u001B[0;31m---------------------------------------------------------------------------\u001B[0m",
      "\u001B[0;31mAttributeError\u001B[0m                            Traceback (most recent call last)",
      "Cell \u001B[0;32mIn [17], line 1\u001B[0m\n\u001B[0;32m----> 1\u001B[0m \u001B[43msystem\u001B[49m\u001B[38;5;241;43m.\u001B[39;49m\u001B[43mexpress_unit\u001B[49m()\n",
      "\u001B[0;31mAttributeError\u001B[0m: 'System' object has no attribute 'express_unit'"
     ]
    }
   ],
   "source": [
    "system.express_unit()"
   ],
   "metadata": {
    "collapsed": false
   }
  },
  {
   "cell_type": "code",
   "execution_count": null,
   "outputs": [],
   "source": [],
   "metadata": {
    "collapsed": false
   }
  }
 ],
 "metadata": {
  "kernelspec": {
   "display_name": "Python 3",
   "language": "python",
   "name": "python3"
  },
  "language_info": {
   "codemirror_mode": {
    "name": "ipython",
    "version": 2
   },
   "file_extension": ".py",
   "mimetype": "text/x-python",
   "name": "python",
   "nbconvert_exporter": "python",
   "pygments_lexer": "ipython2",
   "version": "2.7.6"
  }
 },
 "nbformat": 4,
 "nbformat_minor": 0
}
