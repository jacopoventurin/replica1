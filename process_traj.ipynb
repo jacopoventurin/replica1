{
 "cells": [
  {
   "cell_type": "code",
   "execution_count": 1,
   "metadata": {},
   "outputs": [],
   "source": [
    "import numpy as np\n",
    "import mdtraj as md\n",
    "from tqdm import tqdm\n",
    "\n",
    "from glob import glob\n"
   ]
  },
  {
   "cell_type": "markdown",
   "metadata": {},
   "source": [
    "Please keeep poarticular attention to \n",
    "\n",
    "- choose same folder for `pos_path` and `forces_path`\n",
    "- choose correct `delta` value (should be 10*(simulation number-1))\n",
    "- choose correct folders for `processed_pos` and ` processed_forces` corresponding to the choice of `pos_path` and `forces_path`\n",
    "- select the correct folder between `exchange_neighbors` and `exchnge_all`"
   ]
  },
  {
   "cell_type": "code",
   "execution_count": 2,
   "metadata": {},
   "outputs": [],
   "source": [
    "## number of previous simulation saved\n",
    "delta = 20  \n",
    "\n",
    "## path of the results from all thoms simulation \n",
    "\n",
    "## Exchange all\n",
    "pos_path = '/import/a12/users/jacopo/transf_temp/all_atom_replica_results_chignolin/exchange_all/sim3'\n",
    "forces_path = '/import/a12/users/jacopo/transf_temp/all_atom_replica_results_chignolin/exchange_all/sim3'\n",
    "## Exchange neighbors\n",
    "#pos_path = '/import/a12/users/jacopo/transf_temp/all_atom_replica_results_chignolin/exchange_neighbors/sim2'\n",
    "#forces_path = '/import/a12/users/jacopo/transf_temp/all_atom_replica_results_chignolin/exchange_neighbors/sim2'\n",
    "\n",
    "## pdb file used for the simulation\n",
    "pdb_file = 'chi_sys.pdb'\n",
    "\n",
    "\n",
    "# simulation parameters\n",
    "n_replicas = 36\n",
    "min_T = 280\n",
    "max_T = 400\n",
    "Temperatures = np.geomspace(min_T, max_T, n_replicas)\n",
    "\n",
    "## paths where to save results of trajectories elaboration are created\n",
    "\n",
    "## Excahge all \n",
    "processed_pos = '/local_scratch2/jacopo/trans_temp/all_atom_replica_results_chignolin/exchange_all/coords_nowater'\n",
    "processed_forces = '/local_scratch2/jacopo/trans_temp/all_atom_replica_results_chignolin/exchange_all/forces_nowater'\n",
    "# Exchange neighbors\n",
    "#processed_pos = '/local_scratch2/jacopo/trans_temp/all_atom_replica_results_chignolin/exchange_neighbors/coords_nowater'\n",
    "#processed_forces = '/local_scratch2/jacopo/trans_temp/all_atom_replica_results_chignolin/exchange_neighbors/forces_nowater'\n"
   ]
  },
  {
   "cell_type": "code",
   "execution_count": 3,
   "metadata": {},
   "outputs": [],
   "source": [
    "# find protein's atoms indeces\n",
    "topo = md.load(pdb_file).topology\n",
    "protein_index = topo.select(\"protein\")\n",
    "protein_topo = topo.subset(protein_index)\n"
   ]
  },
  {
   "cell_type": "code",
   "execution_count": 4,
   "metadata": {},
   "outputs": [
    {
     "name": "stdout",
     "output_type": "stream",
     "text": [
      "Started\n"
     ]
    }
   ],
   "source": [
    "# load position and forces\n",
    "pos_fns = sorted(glob(f\"{pos_path}/position_*.npy\"))\n",
    "forces_fns = sorted(glob(f\"{forces_path}/forces_*.npy\"))\n",
    "\n",
    "# verify position and forces have same length\n",
    "assert len(pos_fns) == len(forces_fns)\n",
    "\n",
    "i = 0\n",
    "print('Started')\n",
    "for pos_fn, force_fn in zip(pos_fns, forces_fns):    \n",
    "    pos = np.load(pos_fn)[:, :, protein_index, :]\n",
    "    force = np.load(force_fn)[:, :, protein_index, :]\n",
    "    for idx in tqdm(range(n_replicas)):\n",
    "        np.save(f\"{processed_pos}/temperature_{Temperatures[idx]:.0f}/coor_{i+delta}\", pos[idx]) \n",
    "        np.save(f\"{processed_forces}/temperature_{Temperatures[idx]:.0f}/forces_{i+delta}\", force[idx]) \n",
    "    print(f'Progress -> {i+1} over 10')\n",
    "    i += 1"
   ]
  }
 ],
 "metadata": {
  "kernelspec": {
   "display_name": "Python 3.11.0",
   "language": "python",
   "name": "python3"
  },
  "language_info": {
   "codemirror_mode": {
    "name": "ipython",
    "version": 3
   },
   "file_extension": ".py",
   "mimetype": "text/x-python",
   "name": "python",
   "nbconvert_exporter": "python",
   "pygments_lexer": "ipython3",
   "version": "3.11.0"
  },
  "orig_nbformat": 4,
  "vscode": {
   "interpreter": {
    "hash": "fbaadaea6d88548185d595c3f8fee577faf9eca7f3d4777120b644354e10a8c1"
   }
  }
 },
 "nbformat": 4,
 "nbformat_minor": 2
}
