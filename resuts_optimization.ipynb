{
 "cells": [
  {
   "cell_type": "code",
   "execution_count": 2,
   "metadata": {},
   "outputs": [],
   "source": [
    "import numpy as np"
   ]
  },
  {
   "cell_type": "markdown",
   "metadata": {},
   "source": [
    "## Model with \n",
    "\n",
    "- $T_{min}$ = 300\n",
    "- $T_{max}$ = 320\n",
    "- $N_{replicas}$ = 6\n",
    "- Division of temperature space: gemetric series "
   ]
  },
  {
   "cell_type": "code",
   "execution_count": 8,
   "metadata": {},
   "outputs": [
    {
     "name": "stdout",
     "output_type": "stream",
     "text": [
      "Temperatures: \n",
      "[300.         303.89741047 307.84545363 311.84478727 315.89607773\n",
      " 320.        ]\n",
      "Acceptance ratio:\n",
      "[0.00920245 0.05521472 0.02167183 0.02312139 0.03809524]\n",
      "Acceptance matrix: \n",
      "[[  0.   3.   3.   5.  12.   7.]\n",
      " [326.   0.  18.  10.   7.  15.]\n",
      " [350. 326.   0.   7.   3.   2.]\n",
      " [337. 317. 323.   0.   8.   7.]\n",
      " [337. 369. 357. 346.   0.  12.]\n",
      " [338. 340. 341. 278. 315.   0.]]\n"
     ]
    }
   ],
   "source": [
    "acceptance = np.load('acceptance1.npy')\n",
    "Tmin = 300\n",
    "Tmax = 320\n",
    "Nreplicas = 6\n",
    "T = np.geomspace(Tmin, Tmax, Nreplicas)\n",
    "\n",
    "print(f'Temperatures: \\n{T}')\n",
    "print('Acceptance ratio:')\n",
    "print(np.diag(acceptance,1) / np.diag(acceptance,-1))\n",
    "print(f'Acceptance matrix: \\n{acceptance}')"
   ]
  },
  {
   "cell_type": "markdown",
   "metadata": {},
   "source": [
    "## Model with \n",
    "\n",
    "- $T_{min}$ = 300\n",
    "- $T_{max}$ = 310\n",
    "- $N_{replicas}$ = 6\n",
    "- Division of temperature space: gemetric series "
   ]
  },
  {
   "cell_type": "code",
   "execution_count": 9,
   "metadata": {},
   "outputs": [
    {
     "name": "stdout",
     "output_type": "stream",
     "text": [
      "Temperatures: \n",
      "[300.         301.97385453 303.96069606 305.96061005 307.97368251\n",
      " 310.        ]\n",
      "Acceptance ratio:\n",
      "[0.13544669 0.13109756 0.0955414  0.12461059 0.14730878]\n",
      "Acceptance matrix: \n",
      "[[  0.  47.  39.  46.  53.  46.]\n",
      " [347.   0.  43.  39.  51.  33.]\n",
      " [345. 328.   0.  30.  42.  32.]\n",
      " [321. 360. 314.   0.  40.  59.]\n",
      " [341. 311. 324. 321.   0.  52.]\n",
      " [342. 328. 335. 330. 353.   0.]]\n"
     ]
    }
   ],
   "source": [
    "acceptance = np.load('acceptance2.npy')\n",
    "Tmin = 300\n",
    "Tmax = 310\n",
    "Nreplicas = 6\n",
    "T = np.geomspace(Tmin, Tmax, Nreplicas)\n",
    "\n",
    "print(f'Temperatures: \\n{T}')\n",
    "print('Acceptance ratio:')\n",
    "print(np.diag(acceptance,1) / np.diag(acceptance,-1))\n",
    "print(f'Acceptance matrix: \\n{acceptance}')"
   ]
  },
  {
   "cell_type": "code",
   "execution_count": null,
   "metadata": {},
   "outputs": [],
   "source": []
  }
 ],
 "metadata": {
  "kernelspec": {
   "display_name": "Python 3.9.15 ('openmm')",
   "language": "python",
   "name": "python3"
  },
  "language_info": {
   "codemirror_mode": {
    "name": "ipython",
    "version": 3
   },
   "file_extension": ".py",
   "mimetype": "text/x-python",
   "name": "python",
   "nbconvert_exporter": "python",
   "pygments_lexer": "ipython3",
   "version": "3.9.15"
  },
  "orig_nbformat": 4,
  "vscode": {
   "interpreter": {
    "hash": "417b8e0e1677faab4d730a2fd905758e5e6b1416a0d59ff621d64c285ecec7da"
   }
  }
 },
 "nbformat": 4,
 "nbformat_minor": 2
}
