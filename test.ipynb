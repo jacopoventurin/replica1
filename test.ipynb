{
 "cells": [
  {
   "cell_type": "code",
   "execution_count": 1,
   "metadata": {},
   "outputs": [],
   "source": [
    "import numpy as np\n",
    "import openmm as mm\n",
    "import mdtraj as md\n",
    "from openmm import unit\n",
    "import openmm.app as app\n",
    "import os\n",
    "from openmmtools import states, mcmc\n",
    "import openmmtools\n",
    "import os\n",
    "import os.path as osp\n",
    "from ReplicaExchangeProtocol import ReplicaExchange\n",
    "import time\n",
    "\n",
    "\n",
    "if osp.exists('output-1.nc'): os.system('rm output-1.nc')\n",
    "\n",
    "# System creation\n",
    "# Define force field\n",
    "forcefield=['amber99sbildn.xml','tip3p.xml']\n",
    "constraints = app.HBonds\n",
    "nonbonded_cutoff = 0.9*unit.nanometer\n",
    "switch_distance = 0.75*unit.nanometer\n",
    "nonbonded_method = app.PME\n",
    "implicit_solvent = False\n",
    "solvated = True\n",
    "hydrogen_mass = None\n",
    "\n",
    "# Define initial constants of the input pdb file\n",
    "friction = 0.1 / unit.picoseconds\n",
    "pressure = 1.0 * unit.atmosphere\n",
    "temperature = 300*unit.kelvin\n",
    "timestep = 2.0 * unit.femtosecond\n",
    "\n",
    "# Load pdb file \n",
    "pdb = app.PDBFile('chi_sys.pdb')\n",
    "modeller = app.modeller.Modeller(pdb.topology, pdb.positions)\n",
    "\n",
    "# Define system \n",
    "create_system_kwargs = dict(\n",
    "    removeCMMotion=True,\n",
    "    nonbondedMethod=nonbonded_method,\n",
    "    nonbondedCutoff=nonbonded_cutoff,\n",
    "    switchDistance=switch_distance,\n",
    "    constraints=constraints,\n",
    "    hydrogenMass=hydrogen_mass,\n",
    "    rigidWater=True,\n",
    ")\n",
    "\n",
    "\n",
    "ff = app.ForceField(*forcefield)\n",
    "# Add solvent\n",
    "#modeller.addSolvent(ff)\n",
    "\n",
    "# Create a system\n",
    "system = ff.createSystem(modeller.topology, **create_system_kwargs)\n",
    "\n",
    "#barostat = mm.MonteCarloBarostat(pressure, temperature)\n",
    "#force_id = system.addForce(barostat)\n",
    "\n",
    "\n",
    "platform = mm.Platform.getPlatformByName(\"CUDA\")\n",
    "platform_properties = {\"DeviceIndex\": \"0\", \"Precision\": \"mixed\"}\n",
    "\n",
    "# Replica setup\n",
    "n_replicas = 36\n",
    "min_T = 280\n",
    "max_T = 400\n",
    "Temps = np.geomspace(min_T, max_T, n_replicas)\n",
    "\n",
    "protocol = {'temperature': Temps * unit.kelvin}\n",
    "thermodynamic_states = states.create_thermodynamic_state_protocol(system,protocol)\n",
    "\n",
    "sampler_states = list()\n",
    "for i_t,_ in enumerate(thermodynamic_states):\n",
    "    sampler_states.append(openmmtools.states.SamplerState(positions=modeller.positions))\n",
    "\n",
    "langevin_move = mcmc.LangevinSplittingDynamicsMove(\n",
    "    timestep = timestep,\n",
    "    collision_rate = friction,\n",
    "    n_steps = 500, # 1ps\n",
    "    reassign_velocities=False,\n",
    "    n_restart_attempts=20,\n",
    "    splitting=\"V R O R V\"\n",
    ")\n",
    "\n",
    "# Define class for replica exchange\n",
    "parallel_tempering = ReplicaExchange(\n",
    "    thermodynamic_states=thermodynamic_states, \n",
    "    sampler_states=sampler_states, \n",
    "    mcmc_move=langevin_move,\n",
    "    rescale_velocities=True,\n",
    ")\n"
   ]
  },
  {
   "cell_type": "code",
   "execution_count": 18,
   "metadata": {},
   "outputs": [],
   "source": [
    "from os import mkdir\n",
    "Temperatures = [280,283,286,289,292,295,298,301,304,307,310,313,316,320,323,326,330,333,336,340,343,347,350,354,358,361,365,369,372,376,380,384,388,392,396,400]\n",
    "\n",
    "#PATH =  '/local_scratch2/jacopo/trans_temp/all_atom_replica_results_chignolin/exchange_neighbors/coords_nowater/'\n",
    "PATH =  '/local_scratch2/jacopo/trans_temp/all_atom_replica_results_chignolin/exchange_neighbors/forces_nowater/'\n",
    "for t in Temperatures:\n",
    "    mkdir(f'{PATH}temperature_{t}')"
   ]
  },
  {
   "cell_type": "code",
   "execution_count": 15,
   "metadata": {},
   "outputs": [
    {
     "data": {
      "text/plain": [
       "(10, 3)"
      ]
     },
     "execution_count": 15,
     "metadata": {},
     "output_type": "execute_result"
    }
   ],
   "source": [
    "position.shape\n"
   ]
  },
  {
   "cell_type": "code",
   "execution_count": null,
   "metadata": {},
   "outputs": [],
   "source": []
  },
  {
   "cell_type": "code",
   "execution_count": 8,
   "metadata": {},
   "outputs": [
    {
     "name": "stdout",
     "output_type": "stream",
     "text": [
      "[0.00920245 0.05521472 0.02167183 0.02312139 0.03809524]\n",
      "[[  0.   3.   3.   5.  12.   7.]\n",
      " [326.   0.  18.  10.   7.  15.]\n",
      " [350. 326.   0.   7.   3.   2.]\n",
      " [337. 317. 323.   0.   8.   7.]\n",
      " [337. 369. 357. 346.   0.  12.]\n",
      " [338. 340. 341. 278. 315.   0.]]\n"
     ]
    }
   ],
   "source": [
    "import numpy as np \n",
    "\n",
    "acceptance = np.load('acceptance1.npy')\n",
    "print(np.diag(acceptance,1) / np.diag(acceptance,-1))\n",
    "print(acceptance)"
   ]
  },
  {
   "cell_type": "code",
   "execution_count": 21,
   "metadata": {},
   "outputs": [
    {
     "ename": "SyntaxError",
     "evalue": "invalid syntax (1100248564.py, line 5)",
     "output_type": "error",
     "traceback": [
      "\u001b[0;36m  Cell \u001b[0;32mIn [21], line 5\u001b[0;36m\u001b[0m\n\u001b[0;31m    if j is not in range(10):\u001b[0m\n\u001b[0m                ^\u001b[0m\n\u001b[0;31mSyntaxError\u001b[0m\u001b[0;31m:\u001b[0m invalid syntax\n"
     ]
    }
   ],
   "source": [
    "a = \n",
    "i = np.sort(np.random.choice(range(10),1,replace=False))\n",
    "j = i + 1\n",
    "k = i - 1\n",
    "\n",
    "neighs = a[abs(a - r) == 1]\n",
    "\n",
    "if j is not in range(10):\n",
    "    print(f'i: {i}, j: {k}')"
   ]
  },
  {
   "cell_type": "code",
   "execution_count": null,
   "metadata": {},
   "outputs": [],
   "source": []
  }
 ],
 "metadata": {
  "kernelspec": {
   "display_name": "Python 3.9.15",
   "language": "python",
   "name": "python3"
  },
  "language_info": {
   "codemirror_mode": {
    "name": "ipython",
    "version": 3
   },
   "file_extension": ".py",
   "mimetype": "text/x-python",
   "name": "python",
   "nbconvert_exporter": "python",
   "pygments_lexer": "ipython3",
   "version": "3.9.15"
  },
  "vscode": {
   "interpreter": {
    "hash": "7a313cc5491ca4ca28b3b30366c32ea313025696353e2b0eaa5919bcae64eb37"
   }
  }
 },
 "nbformat": 4,
 "nbformat_minor": 0
}
