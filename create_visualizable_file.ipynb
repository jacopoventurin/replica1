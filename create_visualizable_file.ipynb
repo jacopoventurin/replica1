{
 "cells": [
  {
   "cell_type": "code",
   "execution_count": 14,
   "metadata": {},
   "outputs": [],
   "source": [
    "import mdtraj as md \n",
    "import numpy as np\n",
    "from glob import glob\n"
   ]
  },
  {
   "cell_type": "code",
   "execution_count": 15,
   "metadata": {},
   "outputs": [],
   "source": [
    "Temperatures = [280,283,286,289,292,295,298,301,304,307,310,313,316,320,323,326,330,333,336,340,343,347,350,354,358,361,365,369,372,376,380,384,388,392,396,400]\n",
    "\n",
    "#T = Temperatures[3]\n",
    "\n",
    "pos_path = '/local_scratch2/jacopo/trans_temp/all_atom_replica_results_chignolin/exchange_all/coords_nowater'\n",
    "\n",
    "elaborated_traj_path = '/local_scratch2/jacopo/trans_temp/all_atom_replica_results_chignolin/exchange_all/visualizable_traj'"
   ]
  },
  {
   "cell_type": "code",
   "execution_count": 16,
   "metadata": {},
   "outputs": [
    {
     "name": "stdout",
     "output_type": "stream",
     "text": [
      "CA indeces: [  8  29  50  70  76  91 105 112 126 150]\n"
     ]
    }
   ],
   "source": [
    "T = Temperatures[3]\n",
    "i = 0\n",
    "\n",
    "coord_fns = sorted(glob(f'{pos_path}/temperature_{T}/coor*'))\n",
    "#assert len(coord_fns) == 3744\n",
    "\n",
    "# load topology and consider CA resolution\n",
    "chig_pdb = md.load(\"./chi_sys.pdb\").remove_solvent()\n",
    "ca_idx = chig_pdb.topology.select(\"name CA\")\n",
    "print(f'CA indeces: {ca_idx}')\n",
    "assert len(ca_idx) == 10\n",
    "\n",
    "coords = []\n",
    "for fn in coord_fns:\n",
    "    coords.append(np.load(fn) / 10.0)\n",
    "\n",
    "coords = np.concatenate(coords, axis=0)\n",
    "aa_pdb = md.Trajectory(xyz=coords, topology=chig_pdb.topology, time=np.arange(len(coords)))\n",
    "cg_pdb = aa_pdb.atom_slice(ca_idx)\n",
    "aa_pdb.save_pdb(f'{elaborated_traj_path}/all_atoms/temperature_{T}/traj_{i}.pdb')\n",
    "cg_pdb.save_pdb(f'{elaborated_traj_path}/CA_resolution/temperature_{T}/traj_{i}.pdb')\n"
   ]
  },
  {
   "cell_type": "code",
   "execution_count": 13,
   "metadata": {},
   "outputs": [
    {
     "name": "stdout",
     "output_type": "stream",
     "text": [
      "CA indeces: [  8  29  50  70  76  91 105 112 126 150]\n",
      "CA indeces: [  8  29  50  70  76  91 105 112 126 150]\n",
      "CA indeces: [  8  29  50  70  76  91 105 112 126 150]\n",
      "CA indeces: [  8  29  50  70  76  91 105 112 126 150]\n",
      "CA indeces: [  8  29  50  70  76  91 105 112 126 150]\n",
      "CA indeces: [  8  29  50  70  76  91 105 112 126 150]\n",
      "CA indeces: [  8  29  50  70  76  91 105 112 126 150]\n",
      "CA indeces: [  8  29  50  70  76  91 105 112 126 150]\n",
      "CA indeces: [  8  29  50  70  76  91 105 112 126 150]\n",
      "CA indeces: [  8  29  50  70  76  91 105 112 126 150]\n",
      "CA indeces: [  8  29  50  70  76  91 105 112 126 150]\n",
      "CA indeces: [  8  29  50  70  76  91 105 112 126 150]\n",
      "CA indeces: [  8  29  50  70  76  91 105 112 126 150]\n",
      "CA indeces: [  8  29  50  70  76  91 105 112 126 150]\n",
      "CA indeces: [  8  29  50  70  76  91 105 112 126 150]\n",
      "CA indeces: [  8  29  50  70  76  91 105 112 126 150]\n",
      "CA indeces: [  8  29  50  70  76  91 105 112 126 150]\n",
      "CA indeces: [  8  29  50  70  76  91 105 112 126 150]\n",
      "CA indeces: [  8  29  50  70  76  91 105 112 126 150]\n",
      "CA indeces: [  8  29  50  70  76  91 105 112 126 150]\n",
      "CA indeces: [  8  29  50  70  76  91 105 112 126 150]\n",
      "CA indeces: [  8  29  50  70  76  91 105 112 126 150]\n",
      "CA indeces: [  8  29  50  70  76  91 105 112 126 150]\n",
      "CA indeces: [  8  29  50  70  76  91 105 112 126 150]\n",
      "CA indeces: [  8  29  50  70  76  91 105 112 126 150]\n",
      "CA indeces: [  8  29  50  70  76  91 105 112 126 150]\n",
      "CA indeces: [  8  29  50  70  76  91 105 112 126 150]\n",
      "CA indeces: [  8  29  50  70  76  91 105 112 126 150]\n",
      "CA indeces: [  8  29  50  70  76  91 105 112 126 150]\n",
      "CA indeces: [  8  29  50  70  76  91 105 112 126 150]\n",
      "CA indeces: [  8  29  50  70  76  91 105 112 126 150]\n",
      "CA indeces: [  8  29  50  70  76  91 105 112 126 150]\n",
      "CA indeces: [  8  29  50  70  76  91 105 112 126 150]\n",
      "CA indeces: [  8  29  50  70  76  91 105 112 126 150]\n",
      "CA indeces: [  8  29  50  70  76  91 105 112 126 150]\n",
      "CA indeces: [  8  29  50  70  76  91 105 112 126 150]\n"
     ]
    }
   ],
   "source": [
    "for T in Temperatures:\n",
    "\n",
    "    coord_fns = sorted(glob(f'{pos_path}/temperature_{T}/coor*'))\n",
    "    #assert len(coord_fns) == 3744\n",
    "\n",
    "    # load topology and consider CA resolution\n",
    "    chig_pdb = md.load(\"./chi_sys.pdb\").remove_solvent()\n",
    "\n",
    "    ca_idx = chig_pdb.topology.select(\"name CA\")\n",
    "    print(f'CA indeces: {ca_idx}')\n",
    "\n",
    "    assert len(ca_idx) == 10\n",
    "\n",
    "    i = 0\n",
    "    for fn in coord_fns:\n",
    "        coords = np.load(fn) / 10.0\n",
    "        aa_pdb = md.Trajectory(xyz=coords, topology=chig_pdb.topology, time=np.arange(len(coords)))\n",
    "        cg_pdb = aa_pdb.atom_slice(ca_idx)\n",
    "\n",
    "        aa_pdb.save_pdb(f'{elaborated_traj_path}/all_atoms/temperature_{T}/traj_{i}.pdb')\n",
    "        cg_pdb.save_pdb(f'{elaborated_traj_path}/CA_resolution/temperature_{T}/traj_{i}.pdb')\n",
    "\n",
    "        i += 1\n",
    "\n",
    "\n",
    "\n",
    "\n"
   ]
  },
  {
   "cell_type": "code",
   "execution_count": null,
   "metadata": {},
   "outputs": [],
   "source": []
  }
 ],
 "metadata": {
  "kernelspec": {
   "display_name": "Python 3.9.15",
   "language": "python",
   "name": "python3"
  },
  "language_info": {
   "codemirror_mode": {
    "name": "ipython",
    "version": 3
   },
   "file_extension": ".py",
   "mimetype": "text/x-python",
   "name": "python",
   "nbconvert_exporter": "python",
   "pygments_lexer": "ipython3",
   "version": "3.9.15"
  },
  "orig_nbformat": 4,
  "vscode": {
   "interpreter": {
    "hash": "7a313cc5491ca4ca28b3b30366c32ea313025696353e2b0eaa5919bcae64eb37"
   }
  }
 },
 "nbformat": 4,
 "nbformat_minor": 2
}
