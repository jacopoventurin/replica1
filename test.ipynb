{
 "cells": [
  {
   "cell_type": "code",
   "execution_count": 2,
   "metadata": {
    "collapsed": true
   },
   "outputs": [],
   "source": [
    "import numpy as np\n",
    "import openmm as mm\n",
    "import mdtraj as md\n",
    "from openmm import unit\n",
    "import openmm.app as app\n",
    "import os\n",
    "from openmmtools import states, mcmc\n",
    "import openmmtools\n",
    "import os\n",
    "import os.path as osp\n",
    "from ReplicaExchangeProtocol import ReplicaExchange\n",
    "\n",
    "\n",
    "if osp.exists('output-1.nc'): os.system('rm output-1.nc')"
   ]
  },
  {
   "cell_type": "code",
   "execution_count": 3,
   "metadata": {
    "collapsed": false
   },
   "outputs": [],
   "source": [
    "forcefield=['amber99sbildn.xml','tip3p.xml']\n",
    "#forcefield=['amber96.xml','tip3p.xml']\n",
    "constraints = app.HBonds\n",
    "nonbonded_cutoff = 0.9*unit.nanometer\n",
    "switch_distance = 0.75*unit.nanometer\n",
    "nonbonded_method = app.PME\n",
    "implicit_solvent = False\n",
    "solvated = True\n",
    "hydrogen_mass = None\n",
    "\n",
    "# Define initial constants of the input pdb file\n",
    "friction = 0.1 / unit.picoseconds\n",
    "pressure = 1.0 * unit.atmosphere\n",
    "temperature = 300*unit.kelvin\n",
    "timestep = 2.0 * unit.femtosecond\n",
    "\n",
    "# Load pdb file\n",
    "pdb = app.PDBFile('chi_sys.pdb')\n",
    "traj = md.load('chi_sys.pdb')\n",
    "modeller = app.modeller.Modeller(pdb.topology, pdb.positions)\n",
    "\n",
    "\n",
    "\n",
    "# Define system\n",
    "create_system_kwargs = dict(\n",
    "    removeCMMotion=True,\n",
    "    nonbondedMethod=nonbonded_method,\n",
    "    nonbondedCutoff=nonbonded_cutoff,\n",
    "    switchDistance=switch_distance,\n",
    "    constraints=constraints,\n",
    "    hydrogenMass=hydrogen_mass,\n",
    "    rigidWater=True,\n",
    ")\n",
    "\n",
    "\n",
    "ff = app.ForceField(*forcefield)\n",
    "system = ff.createSystem(modeller.topology, **create_system_kwargs)\n",
    "\n",
    "\n",
    "#sampler_state = mcmc.SamplerState(positions=system.positions)\n",
    "#thermodynamic_state = mcmc.ThermodynamicState(system=system, temperature=298*unit.kelvin)\n",
    "\n",
    "\n",
    "barostat = mm.MonteCarloBarostat(pressure, temperature)\n",
    "force_id = system.addForce(barostat)"
   ]
  },
  {
   "cell_type": "code",
   "execution_count": 4,
   "metadata": {
    "collapsed": false
   },
   "outputs": [],
   "source": [
    "platform = mm.Platform.getPlatformByName(\"CUDA\")\n",
    "platform_properties = {\"DeviceIndex\": \"0\", \"Precision\": \"mixed\"}\n",
    "\n",
    "n_replicas = 4\n",
    "\n",
    "protocol = {'temperature': [300,302,304,306,315] * unit.kelvin}\n",
    "thermodynamic_states = states.create_thermodynamic_state_protocol(system,protocol)\n",
    "\n",
    "\n",
    "\n",
    "sampler_states = list()\n",
    "for i_t,_ in enumerate(thermodynamic_states):\n",
    "    sampler_states.append(openmmtools.states.SamplerState(positions=modeller.positions))\n",
    "\n",
    "langevin_move = mcmc.LangevinSplittingDynamicsMove(\n",
    "    timestep = timestep,\n",
    "    collision_rate = friction,\n",
    "    n_steps = 1000,\n",
    "    reassign_velocities=False,\n",
    "    n_restart_attempts=20,\n",
    "    splitting=\"V R O R V\"\n",
    ")\n",
    "\n",
    "# Define class for replica exchange\n",
    "parallel_tempering = ReplicaExchange(\n",
    "    thermodynamic_states=thermodynamic_states,\n",
    "    sampler_states=sampler_states,\n",
    "    mcmc_move=langevin_move\n",
    ")"
   ]
  },
  {
   "cell_type": "code",
   "execution_count": 5,
   "metadata": {
    "collapsed": false
   },
   "outputs": [
    {
     "name": "stdout",
     "output_type": "stream",
     "text": [
      "0\n",
      "100\n",
      "200\n",
      "300\n",
      "400\n",
      "500\n",
      "600\n",
      "700\n",
      "800\n",
      "900\n",
      "1000\n",
      "1100\n",
      "1200\n",
      "1300\n",
      "1400\n",
      "1500\n",
      "1600\n",
      "1700\n",
      "1800\n",
      "1900\n",
      "2000\n",
      "2100\n",
      "2200\n",
      "2300\n",
      "2400\n",
      "2500\n",
      "2600\n",
      "2700\n",
      "2800\n",
      "2900\n",
      "3000\n",
      "3100\n",
      "3200\n",
      "3300\n",
      "3400\n",
      "3500\n",
      "3600\n",
      "3700\n",
      "3800\n",
      "3900\n",
      "4000\n",
      "4100\n",
      "4200\n",
      "4300\n",
      "4400\n",
      "4500\n",
      "4600\n",
      "4700\n",
      "4800\n",
      "4900\n"
     ]
    }
   ],
   "source": [
    "positions, forces, acceptance = parallel_tempering.run(5000,save=True)"
   ]
  },
  {
   "cell_type": "code",
   "execution_count": 6,
   "metadata": {
    "collapsed": false
   },
   "outputs": [
    {
     "data": {
      "text/plain": [
       "array([0.        , 0.        , 0.1610338 , 0.19917012])"
      ]
     },
     "execution_count": 6,
     "metadata": {},
     "output_type": "execute_result"
    }
   ],
   "source": [
    "np.diag(acceptance,1) / np.diag(acceptance,-1)"
   ]
  },
  {
   "cell_type": "code",
   "execution_count": 7,
   "metadata": {},
   "outputs": [
    {
     "data": {
      "text/plain": [
       "array([[  0.,   0., 111., 126.,  98.],\n",
       "       [472.,   0.,   0.,   1.,   1.],\n",
       "       [517., 512.,   0.,  81., 112.],\n",
       "       [531., 469., 503.,   0.,  96.],\n",
       "       [518., 486., 510., 482.,   0.]])"
      ]
     },
     "execution_count": 7,
     "metadata": {},
     "output_type": "execute_result"
    }
   ],
   "source": [
    "acceptance"
   ]
  },
  {
   "cell_type": "code",
   "execution_count": 9,
   "metadata": {},
   "outputs": [],
   "source": [
    "platform = mm.Platform.getPlatformByName(\"CUDA\")\n",
    "platform_properties = {\"DeviceIndex\": \"0\", \"Precision\": \"mixed\"}\n",
    "\n",
    "n_replicas = 4\n",
    "\n",
    "protocol = {'temperature': [300,302,304,306,308] * unit.kelvin}\n",
    "thermodynamic_states = states.create_thermodynamic_state_protocol(system,protocol)\n",
    "\n",
    "\n",
    "\n",
    "sampler_states = list()\n",
    "for i_t,_ in enumerate(thermodynamic_states):\n",
    "    sampler_states.append(openmmtools.states.SamplerState(positions=modeller.positions))\n",
    "\n",
    "langevin_move = mcmc.LangevinSplittingDynamicsMove(\n",
    "    timestep = timestep,\n",
    "    collision_rate = friction,\n",
    "    n_steps = 1000,\n",
    "    reassign_velocities=False,\n",
    "    n_restart_attempts=20,\n",
    "    splitting=\"V R O R V\"\n",
    ")\n",
    "\n",
    "# Define class for replica exchange\n",
    "parallel_tempering = ReplicaExchange(\n",
    "    thermodynamic_states=thermodynamic_states,\n",
    "    sampler_states=sampler_states,\n",
    "    mcmc_move=langevin_move\n",
    ")"
   ]
  },
  {
   "cell_type": "code",
   "execution_count": 10,
   "metadata": {},
   "outputs": [
    {
     "name": "stdout",
     "output_type": "stream",
     "text": [
      "0\n",
      "100\n"
     ]
    },
    {
     "ename": "KeyboardInterrupt",
     "evalue": "",
     "output_type": "error",
     "traceback": [
      "\u001b[0;31m---------------------------------------------------------------------------\u001b[0m",
      "\u001b[0;31mKeyboardInterrupt\u001b[0m                         Traceback (most recent call last)",
      "Cell \u001b[0;32mIn [10], line 1\u001b[0m\n\u001b[0;32m----> 1\u001b[0m positions, forces, acceptance \u001b[39m=\u001b[39m parallel_tempering\u001b[39m.\u001b[39;49mrun(\u001b[39m5000\u001b[39;49m,save\u001b[39m=\u001b[39;49m\u001b[39mTrue\u001b[39;49;00m)\n\u001b[1;32m      3\u001b[0m \u001b[39mprint\u001b[39m(np\u001b[39m.\u001b[39mdiag(acceptance,\u001b[39m1\u001b[39m) \u001b[39m/\u001b[39m np\u001b[39m.\u001b[39mdiag(acceptance,\u001b[39m-\u001b[39m\u001b[39m1\u001b[39m))\n\u001b[1;32m      4\u001b[0m \u001b[39mprint\u001b[39m(acceptance)\n",
      "File \u001b[0;32m/local_scratch2/jacopo/trans_temp/replica1/ReplicaExchangeProtocol.py:25\u001b[0m, in \u001b[0;36mReplicaExchange.run\u001b[0;34m(self, n_iterations, save)\u001b[0m\n\u001b[1;32m     23\u001b[0m \u001b[39mfor\u001b[39;00m iteration \u001b[39min\u001b[39;00m \u001b[39mrange\u001b[39m(n_iterations):\n\u001b[1;32m     24\u001b[0m     \u001b[39mif\u001b[39;00m iteration \u001b[39m%\u001b[39m \u001b[39m100\u001b[39m \u001b[39m==\u001b[39m \u001b[39m0\u001b[39m: \u001b[39mprint\u001b[39m(iteration)\n\u001b[0;32m---> 25\u001b[0m     \u001b[39mself\u001b[39;49m\u001b[39m.\u001b[39;49m_propagate_replicas()\n\u001b[1;32m     26\u001b[0m     \u001b[39mself\u001b[39m\u001b[39m.\u001b[39m_mix_replicas()\n\u001b[1;32m     28\u001b[0m     \u001b[39m# Save positions and forces\u001b[39;00m\n",
      "File \u001b[0;32m/local_scratch2/jacopo/trans_temp/replica1/ReplicaExchangeProtocol.py:46\u001b[0m, in \u001b[0;36mReplicaExchange._propagate_replicas\u001b[0;34m(self)\u001b[0m\n\u001b[1;32m     43\u001b[0m \u001b[39mdef\u001b[39;00m \u001b[39m_propagate_replicas\u001b[39m(\u001b[39mself\u001b[39m):\n\u001b[1;32m     44\u001b[0m     \u001b[39m# _thermodynamic_state[i] is associated to the replica configuration in _replicas_sampler_states[i].\u001b[39;00m\n\u001b[1;32m     45\u001b[0m     \u001b[39mfor\u001b[39;00m thermo_state, sampler_state \u001b[39min\u001b[39;00m \u001b[39mzip\u001b[39m(\u001b[39mself\u001b[39m\u001b[39m.\u001b[39m_thermodynamic_states, \u001b[39mself\u001b[39m\u001b[39m.\u001b[39m_replicas_sampler_states):\n\u001b[0;32m---> 46\u001b[0m         \u001b[39mself\u001b[39;49m\u001b[39m.\u001b[39;49m_mcmc_move\u001b[39m.\u001b[39;49mapply(thermo_state, sampler_state)\n",
      "File \u001b[0;32m/local_scratch2/jacopo/miniconda/envs/MDsim/lib/python3.9/site-packages/openmmtools/mcmc.py:1146\u001b[0m, in \u001b[0;36mLangevinDynamicsMove.apply\u001b[0;34m(self, thermodynamic_state, sampler_state, context_cache)\u001b[0m\n\u001b[1;32m   1130\u001b[0m \u001b[39m\"\"\"Apply the Langevin dynamics MCMC move.\u001b[39;00m\n\u001b[1;32m   1131\u001b[0m \n\u001b[1;32m   1132\u001b[0m \u001b[39mThis modifies the given sampler_state. The temperature of the\u001b[39;00m\n\u001b[0;32m   (...)\u001b[0m\n\u001b[1;32m   1143\u001b[0m \n\u001b[1;32m   1144\u001b[0m \u001b[39m\"\"\"\u001b[39;00m\n\u001b[1;32m   1145\u001b[0m \u001b[39m# Explicitly implemented just to have more specific docstring.\u001b[39;00m\n\u001b[0;32m-> 1146\u001b[0m \u001b[39msuper\u001b[39;49m(LangevinDynamicsMove, \u001b[39mself\u001b[39;49m)\u001b[39m.\u001b[39;49mapply(thermodynamic_state, sampler_state,\n\u001b[1;32m   1147\u001b[0m                                         context_cache\u001b[39m=\u001b[39;49mcontext_cache)\n",
      "File \u001b[0;32m/local_scratch2/jacopo/miniconda/envs/MDsim/lib/python3.9/site-packages/openmmtools/mcmc.py:717\u001b[0m, in \u001b[0;36mBaseIntegratorMove.apply\u001b[0;34m(self, thermodynamic_state, sampler_state, context_cache)\u001b[0m\n\u001b[1;32m    714\u001b[0m \u001b[39mtry\u001b[39;00m:\n\u001b[1;32m    715\u001b[0m     \u001b[39m# Run dynamics.\u001b[39;00m\n\u001b[1;32m    716\u001b[0m     timer\u001b[39m.\u001b[39mstart(\u001b[39m\"\u001b[39m\u001b[39m{}\u001b[39;00m\u001b[39m: step(\u001b[39m\u001b[39m{}\u001b[39;00m\u001b[39m)\u001b[39m\u001b[39m\"\u001b[39m\u001b[39m.\u001b[39mformat(move_name, \u001b[39mself\u001b[39m\u001b[39m.\u001b[39mn_steps))\n\u001b[0;32m--> 717\u001b[0m     integrator\u001b[39m.\u001b[39;49mstep(\u001b[39mself\u001b[39;49m\u001b[39m.\u001b[39;49mn_steps)\n\u001b[1;32m    718\u001b[0m \u001b[39mexcept\u001b[39;00m \u001b[39mException\u001b[39;00m:\n\u001b[1;32m    719\u001b[0m     \u001b[39m# Catches particle positions becoming nan during integration.\u001b[39;00m\n\u001b[1;32m    720\u001b[0m     restart \u001b[39m=\u001b[39m \u001b[39mTrue\u001b[39;00m\n",
      "File \u001b[0;32m/local_scratch2/jacopo/miniconda/envs/MDsim/lib/python3.9/site-packages/openmm/openmm.py:6011\u001b[0m, in \u001b[0;36mCustomIntegrator.step\u001b[0;34m(self, steps)\u001b[0m\n\u001b[1;32m   6001\u001b[0m \u001b[39mdef\u001b[39;00m \u001b[39mstep\u001b[39m(\u001b[39mself\u001b[39m, steps):\n\u001b[1;32m   6002\u001b[0m     \u001b[39mr\u001b[39m\u001b[39m\"\"\"\u001b[39;00m\n\u001b[1;32m   6003\u001b[0m \u001b[39m    step(self, steps)\u001b[39;00m\n\u001b[1;32m   6004\u001b[0m \u001b[39m    Advance a simulation through time by taking a series of time steps.\u001b[39;00m\n\u001b[0;32m   (...)\u001b[0m\n\u001b[1;32m   6009\u001b[0m \u001b[39m        the number of time steps to take\u001b[39;00m\n\u001b[1;32m   6010\u001b[0m \u001b[39m    \"\"\"\u001b[39;00m\n\u001b[0;32m-> 6011\u001b[0m     \u001b[39mreturn\u001b[39;00m _openmm\u001b[39m.\u001b[39;49mCustomIntegrator_step(\u001b[39mself\u001b[39;49m, steps)\n",
      "\u001b[0;31mKeyboardInterrupt\u001b[0m: "
     ]
    }
   ],
   "source": [
    "positions, forces, acceptance = parallel_tempering.run(5000,save=True)\n",
    "\n",
    "print(np.diag(acceptance,1) / np.diag(acceptance,-1))\n",
    "print(acceptance)"
   ]
  },
  {
   "cell_type": "code",
   "execution_count": 11,
   "metadata": {},
   "outputs": [
    {
     "data": {
      "text/plain": [
       "(5, 5000, 20963, 3)"
      ]
     },
     "execution_count": 11,
     "metadata": {},
     "output_type": "execute_result"
    }
   ],
   "source": [
    "positions.shape"
   ]
  },
  {
   "cell_type": "code",
   "execution_count": 13,
   "metadata": {},
   "outputs": [
    {
     "data": {
      "text/plain": [
       "9"
      ]
     },
     "execution_count": 13,
     "metadata": {},
     "output_type": "execute_result"
    }
   ],
   "source": [
    "99 % 10"
   ]
  },
  {
   "cell_type": "code",
   "execution_count": 2,
   "metadata": {},
   "outputs": [
    {
     "data": {
      "text/plain": [
       "array([300.        , 303.89741047, 307.84545363, 311.84478727,\n",
       "       315.89607773, 320.        ])"
      ]
     },
     "execution_count": 2,
     "metadata": {},
     "output_type": "execute_result"
    }
   ],
   "source": [
    "import numpy as np\n",
    "n_replicas = 6\n",
    "min_T = 300\n",
    "max_T = 320\n",
    "np.geomspace(min_T, max_T, n_replicas)"
   ]
  },
  {
   "cell_type": "code",
   "execution_count": 6,
   "metadata": {},
   "outputs": [
    {
     "name": "stdout",
     "output_type": "stream",
     "text": [
      "10 of 100, value of i = 9\n",
      "20 of 100, value of i = 19\n",
      "30 of 100, value of i = 29\n",
      "40 of 100, value of i = 39\n",
      "50 of 100, value of i = 49\n",
      "60 of 100, value of i = 59\n",
      "70 of 100, value of i = 69\n",
      "80 of 100, value of i = 79\n",
      "90 of 100, value of i = 89\n",
      "100 of 100, value of i = 99\n"
     ]
    }
   ],
   "source": [
    "for i in range(100):\n",
    "    if (1+i) % 10 == 0:\n",
    "        print(f'{i+1} of {100}, value of i = {i}')\n"
   ]
  },
  {
   "cell_type": "code",
   "execution_count": 8,
   "metadata": {},
   "outputs": [
    {
     "name": "stdout",
     "output_type": "stream",
     "text": [
      "[0.00920245 0.05521472 0.02167183 0.02312139 0.03809524]\n",
      "[[  0.   3.   3.   5.  12.   7.]\n",
      " [326.   0.  18.  10.   7.  15.]\n",
      " [350. 326.   0.   7.   3.   2.]\n",
      " [337. 317. 323.   0.   8.   7.]\n",
      " [337. 369. 357. 346.   0.  12.]\n",
      " [338. 340. 341. 278. 315.   0.]]\n"
     ]
    }
   ],
   "source": [
    "import numpy as np \n",
    "\n",
    "acceptance = np.load('acceptance1.npy')\n",
    "print(np.diag(acceptance,1) / np.diag(acceptance,-1))\n",
    "print(acceptance)"
   ]
  },
  {
   "cell_type": "code",
   "execution_count": 21,
   "metadata": {},
   "outputs": [
    {
     "ename": "SyntaxError",
     "evalue": "invalid syntax (1100248564.py, line 5)",
     "output_type": "error",
     "traceback": [
      "\u001b[0;36m  Cell \u001b[0;32mIn [21], line 5\u001b[0;36m\u001b[0m\n\u001b[0;31m    if j is not in range(10):\u001b[0m\n\u001b[0m                ^\u001b[0m\n\u001b[0;31mSyntaxError\u001b[0m\u001b[0;31m:\u001b[0m invalid syntax\n"
     ]
    }
   ],
   "source": [
    "a = \n",
    "i = np.sort(np.random.choice(range(10),1,replace=False))\n",
    "j = i + 1\n",
    "k = i - 1\n",
    "\n",
    "neighs = a[abs(a - r) == 1]\n",
    "\n",
    "if j is not in range(10):\n",
    "    print(f'i: {i}, j: {k}')"
   ]
  },
  {
   "cell_type": "code",
   "execution_count": null,
   "metadata": {},
   "outputs": [],
   "source": []
  }
 ],
 "metadata": {
  "kernelspec": {
   "display_name": "Python 3.9.15 ('openmm')",
   "language": "python",
   "name": "python3"
  },
  "language_info": {
   "codemirror_mode": {
    "name": "ipython",
    "version": 3
   },
   "file_extension": ".py",
   "mimetype": "text/x-python",
   "name": "python",
   "nbconvert_exporter": "python",
   "pygments_lexer": "ipython3",
   "version": "3.9.15"
  },
  "vscode": {
   "interpreter": {
    "hash": "417b8e0e1677faab4d730a2fd905758e5e6b1416a0d59ff621d64c285ecec7da"
   }
  }
 },
 "nbformat": 4,
 "nbformat_minor": 0
}
