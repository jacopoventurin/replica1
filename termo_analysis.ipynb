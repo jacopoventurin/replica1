{
 "cells": [
  {
   "cell_type": "code",
   "execution_count": 1,
   "metadata": {},
   "outputs": [],
   "source": [
    "import numpy as np\n",
    "import mdtraj as md \n",
    "import deeptime\n",
    "from deeptime.decomposition import TICA\n",
    "from itertools import combinations\n",
    "import matplotlib.pyplot as plt\n",
    "\n",
    "from glob import glob"
   ]
  },
  {
   "cell_type": "code",
   "execution_count": 2,
   "metadata": {},
   "outputs": [],
   "source": [
    "\n",
    "pos_path = '/local_scratch2/jacopo/trans_temp/all_atom_replica_results_chignolin/exchange_all/coords_nowater/temperature_301'"
   ]
  },
  {
   "cell_type": "code",
   "execution_count": 5,
   "metadata": {},
   "outputs": [
    {
     "name": "stdout",
     "output_type": "stream",
     "text": [
      "Dihedral atoms: [(0, 1, 2, 3), (1, 2, 3, 4), (2, 3, 4, 5), (3, 4, 5, 6), (4, 5, 6, 7), (5, 6, 7, 8), (6, 7, 8, 9)]\n",
      "[  8  29  50  70  76  91 105 112 126 150]\n",
      "(495, 175, 3)\n"
     ]
    },
    {
     "ename": "ValueError",
     "evalue": "unitcell_lengths must be shape (495, 3). You supplied  (1, 3)",
     "output_type": "error",
     "traceback": [
      "\u001b[0;31m---------------------------------------------------------------------------\u001b[0m",
      "\u001b[0;31mValueError\u001b[0m                                Traceback (most recent call last)",
      "Cell \u001b[0;32mIn[5], line 26\u001b[0m\n\u001b[1;32m     24\u001b[0m aa_pdb\u001b[39m.\u001b[39mxyz \u001b[39m=\u001b[39m coords\n\u001b[1;32m     25\u001b[0m aa_pdb\u001b[39m.\u001b[39mtime \u001b[39m=\u001b[39m np\u001b[39m.\u001b[39marange(\u001b[39mlen\u001b[39m(coords))\n\u001b[0;32m---> 26\u001b[0m cg_pdb \u001b[39m=\u001b[39m aa_pdb\u001b[39m.\u001b[39;49matom_slice(ca_idx)\n\u001b[1;32m     27\u001b[0m ca_atoms \u001b[39m=\u001b[39m cg_pdb\u001b[39m.\u001b[39mtopology\u001b[39m.\u001b[39mselect(\u001b[39m\"\u001b[39m\u001b[39mname CA\u001b[39m\u001b[39m\"\u001b[39m)\n\u001b[1;32m     28\u001b[0m ca_atom_pairs \u001b[39m=\u001b[39m \u001b[39mlist\u001b[39m(combinations(ca_atoms, \u001b[39m2\u001b[39m))\n",
      "File \u001b[0;32m/local_scratch2/jacopo/miniconda/envs/MDanalysis/lib/python3.11/site-packages/mdtraj/core/trajectory.py:1821\u001b[0m, in \u001b[0;36mTrajectory.atom_slice\u001b[0;34m(self, atom_indices, inplace)\u001b[0m\n\u001b[1;32m   1818\u001b[0m     unitcell_angles \u001b[39m=\u001b[39m \u001b[39mself\u001b[39m\u001b[39m.\u001b[39m_unitcell_angles\u001b[39m.\u001b[39mcopy()\n\u001b[1;32m   1819\u001b[0m time \u001b[39m=\u001b[39m \u001b[39mself\u001b[39m\u001b[39m.\u001b[39m_time\u001b[39m.\u001b[39mcopy()\n\u001b[0;32m-> 1821\u001b[0m \u001b[39mreturn\u001b[39;00m Trajectory(xyz\u001b[39m=\u001b[39;49mxyz, topology\u001b[39m=\u001b[39;49mtopology, time\u001b[39m=\u001b[39;49mtime,\n\u001b[1;32m   1822\u001b[0m                   unitcell_lengths\u001b[39m=\u001b[39;49munitcell_lengths,\n\u001b[1;32m   1823\u001b[0m                   unitcell_angles\u001b[39m=\u001b[39;49munitcell_angles)\n",
      "File \u001b[0;32m/local_scratch2/jacopo/miniconda/envs/MDanalysis/lib/python3.11/site-packages/mdtraj/core/trajectory.py:1239\u001b[0m, in \u001b[0;36mTrajectory.__init__\u001b[0;34m(self, xyz, topology, time, unitcell_lengths, unitcell_angles)\u001b[0m\n\u001b[1;32m   1236\u001b[0m \u001b[39mself\u001b[39m\u001b[39m.\u001b[39m_rmsd_traces \u001b[39m=\u001b[39m \u001b[39mNone\u001b[39;00m\n\u001b[1;32m   1238\u001b[0m \u001b[39m# box has no default, it'll just be none normally\u001b[39;00m\n\u001b[0;32m-> 1239\u001b[0m \u001b[39mself\u001b[39;49m\u001b[39m.\u001b[39;49munitcell_lengths \u001b[39m=\u001b[39m unitcell_lengths\n\u001b[1;32m   1240\u001b[0m \u001b[39mself\u001b[39m\u001b[39m.\u001b[39munitcell_angles \u001b[39m=\u001b[39m unitcell_angles\n\u001b[1;32m   1242\u001b[0m \u001b[39m# time will take the default 1..N\u001b[39;00m\n",
      "File \u001b[0;32m/local_scratch2/jacopo/miniconda/envs/MDanalysis/lib/python3.11/site-packages/mdtraj/core/trajectory.py:899\u001b[0m, in \u001b[0;36mTrajectory.unitcell_lengths\u001b[0;34m(self, value)\u001b[0m\n\u001b[1;32m    889\u001b[0m \u001b[39m@unitcell_lengths\u001b[39m\u001b[39m.\u001b[39msetter\n\u001b[1;32m    890\u001b[0m \u001b[39mdef\u001b[39;00m \u001b[39munitcell_lengths\u001b[39m(\u001b[39mself\u001b[39m, value):\n\u001b[1;32m    891\u001b[0m     \u001b[39m\"\"\"Set the lengths that define the shape of the unit cell in each frame\u001b[39;00m\n\u001b[1;32m    892\u001b[0m \n\u001b[1;32m    893\u001b[0m \u001b[39m    Parameters\u001b[39;00m\n\u001b[0;32m   (...)\u001b[0m\n\u001b[1;32m    897\u001b[0m \u001b[39m        unit cell in each frame, or None\u001b[39;00m\n\u001b[1;32m    898\u001b[0m \u001b[39m    \"\"\"\u001b[39;00m\n\u001b[0;32m--> 899\u001b[0m     \u001b[39mself\u001b[39m\u001b[39m.\u001b[39m_unitcell_lengths \u001b[39m=\u001b[39m ensure_type(value, np\u001b[39m.\u001b[39;49mfloat32, \u001b[39m2\u001b[39;49m,\n\u001b[1;32m    900\u001b[0m         \u001b[39m'\u001b[39;49m\u001b[39munitcell_lengths\u001b[39;49m\u001b[39m'\u001b[39;49m, can_be_none\u001b[39m=\u001b[39;49m\u001b[39mTrue\u001b[39;49;00m, shape\u001b[39m=\u001b[39;49m(\u001b[39mlen\u001b[39;49m(\u001b[39mself\u001b[39;49m), \u001b[39m3\u001b[39;49m),\n\u001b[1;32m    901\u001b[0m         warn_on_cast\u001b[39m=\u001b[39;49m\u001b[39mFalse\u001b[39;49;00m, add_newaxis_on_deficient_ndim\u001b[39m=\u001b[39;49m\u001b[39mTrue\u001b[39;49;00m)\n",
      "File \u001b[0;32m/local_scratch2/jacopo/miniconda/envs/MDanalysis/lib/python3.11/site-packages/mdtraj/utils/validation.py:148\u001b[0m, in \u001b[0;36mensure_type\u001b[0;34m(val, dtype, ndim, name, length, can_be_none, shape, warn_on_cast, add_newaxis_on_deficient_ndim)\u001b[0m\n\u001b[1;32m    145\u001b[0m             \u001b[39mcontinue\u001b[39;00m\n\u001b[1;32m    146\u001b[0m         \u001b[39mif\u001b[39;00m a \u001b[39m!=\u001b[39m b:\n\u001b[1;32m    147\u001b[0m             \u001b[39m# check for equality\u001b[39;00m\n\u001b[0;32m--> 148\u001b[0m             \u001b[39mraise\u001b[39;00m error\n\u001b[1;32m    150\u001b[0m \u001b[39mreturn\u001b[39;00m val\n",
      "\u001b[0;31mValueError\u001b[0m: unitcell_lengths must be shape (495, 3). You supplied  (1, 3)"
     ]
    }
   ],
   "source": [
    "dihedral_atoms = [(i, i+1, i+2, i+3) for i in range(7)]\n",
    "angle_atoms = [(i, i+1, i+2) for i in range(8)]\n",
    "print(f'Dihedral atoms: {dihedral_atoms}')\n",
    "\n",
    "distances = []\n",
    "dihedrals = []\n",
    "angles = []\n",
    "coords = []\n",
    "\n",
    "\n",
    "coord_fns = sorted(glob(f'{pos_path}/coor*'))\n",
    "#assert len(coord_fns) == 3744\n",
    "\n",
    "# load topology and consider CA resolution\n",
    "aa_pdb = md.load(\"./chi_sys.pdb\").remove_solvent()\n",
    "ca_idx = aa_pdb.topology.select(\"name CA\")\n",
    "print(ca_idx)\n",
    "\n",
    "assert len(ca_idx) == 10\n",
    "\n",
    "for fn in coord_fns:\n",
    "    coords = np.load(fn) / 10.0\n",
    "    print(coords.shape)\n",
    "    aa_pdb.xyz = coords\n",
    "    aa_pdb.time = np.arange(len(coords))\n",
    "    cg_pdb = aa_pdb.atom_slice(ca_idx)\n",
    "    ca_atoms = cg_pdb.topology.select(\"name CA\")\n",
    "    ca_atom_pairs = list(combinations(ca_atoms, 2))\n",
    "\n",
    "    distances = md.compute_distances(cg_pdb, ca_atom_pairs)\n",
    "    dihedrals = md.compute_dihedrals(cg_pdb, dihedral_atoms)\n",
    "    angles = md.compute_angles(cg_pdb, angle_atoms)\n",
    "    distances.append(distances)\n",
    "    dihedrals.append(dihedrals)\n",
    "    angles.append(angles)\n",
    "\n",
    "all_distances = np.concatenate(distances)\n",
    "all_dihedrals = np.concatenate(dihedrals)\n",
    "all_angles = np.concatenate(angles)\n",
    "print(f'Shape of all distances: {all_distances.shape}')"
   ]
  },
  {
   "cell_type": "code",
   "execution_count": 11,
   "metadata": {},
   "outputs": [
    {
     "data": {
      "text/plain": [
       "array([[5.9921, 5.9921, 5.9921]], dtype=float32)"
      ]
     },
     "execution_count": 11,
     "metadata": {},
     "output_type": "execute_result"
    }
   ],
   "source": [
    "#aa_pdb.atom_slice(aa_pdb.topology.select(\"name CA\"))\n",
    "aa_pdb.unitcell_lengths"
   ]
  },
  {
   "cell_type": "code",
   "execution_count": null,
   "metadata": {},
   "outputs": [],
   "source": [
    "# determine converged TICA\n",
    "tic_objs = []\n",
    "lags =[1,20,40,60,120,160]\n",
    "for lag in lags:\n",
    "    tica = TICA(lagtime=lag, dim=2, scaling='kinetic_map')\n",
    "    #tica_model = tica.fit(distances).fetch_model()\n",
    "    tic_objs.append(tica.fit(distances).fetch_model())\n",
    "\n",
    "\n",
    "# plot involved timescales\n",
    "ts = np.array([obj.timescales for obj in tic_objs])\n",
    "print(ts.shape)\n",
    "for t in range(ts.shape[1]):\n",
    "    plt.plot(lags,ts[:,t])\n",
    "plt.yscale('log')\n",
    "plt.show()\n"
   ]
  },
  {
   "cell_type": "code",
   "execution_count": null,
   "metadata": {},
   "outputs": [],
   "source": [
    "# Plot ref TICA\n",
    "chosen_tica = TICA(lagtime=60, dim=2, scaling='kinetic_map')\n",
    "chosen_tica_model = chosen_tica.fit(distances).fetch_model()\n",
    "\n",
    "tica_projection = chosen_tica_model.transform(distances)\n",
    "\n",
    "\n",
    "#fig, axes = plt.subplots(figsize=(10, 8))\n",
    "\n",
    "energy_landscape = deeptime.util.energy2d(tica_projection[:,0], tica_projection[:,1], kbt=1.0)\n",
    "deeptime.plots.plot_energy2d(energy_landscape)\n",
    "\n",
    "plt.ylabel('TIC 2')\n",
    "plt.xlabel('TIC 1')\n",
    "\n",
    "plt.show()\n",
    "#deeptime.plots.plot_feature_histograms(tica_projection[:,:2],feature_labels=['TIC 1', 'TIC 2'], ax=axes[1,0])\n",
    "\n",
    "#for ax in axes.flat[:2]:\n",
    "#    ax.set_xlabel('TIC 1')\n",
    "#    ax.set_ylabel('TIC 2')\n",
    "#\n",
    "#axes[0,1].set_xlim(axes[0,0].get_xlim())\n",
    "#axes[0,1].set_ylim(axes[0,0].get_ylim())\n",
    "#axes[1,1].set_xlim(axes[1,0].get_xlim())\n",
    "#axes[1,1].set_ylim(axes[1,0].get_ylim())\n",
    "#\n",
    "#\n",
    "#axes[0,0].set_title('Reference')\n",
    "#axes[0,1].set_title(f'Simulated model {code}')\n",
    "#fig.tight_layout()"
   ]
  }
 ],
 "metadata": {
  "kernelspec": {
   "display_name": "Python 3.11.0",
   "language": "python",
   "name": "python3"
  },
  "language_info": {
   "codemirror_mode": {
    "name": "ipython",
    "version": 3
   },
   "file_extension": ".py",
   "mimetype": "text/x-python",
   "name": "python",
   "nbconvert_exporter": "python",
   "pygments_lexer": "ipython3",
   "version": "3.11.0"
  },
  "orig_nbformat": 4,
  "vscode": {
   "interpreter": {
    "hash": "fbaadaea6d88548185d595c3f8fee577faf9eca7f3d4777120b644354e10a8c1"
   }
  }
 },
 "nbformat": 4,
 "nbformat_minor": 2
}
